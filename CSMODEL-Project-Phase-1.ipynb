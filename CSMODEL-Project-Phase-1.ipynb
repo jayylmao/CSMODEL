{
 "cells": [
  {
   "cell_type": "markdown",
   "id": "6879be0d-5234-4242-a21e-e9d0d038743e",
   "metadata": {},
   "source": [
    "# Global Ecological Footprint 2023\n",
    "**Group 6**\n",
    "- Jay Michael Carlos\n",
    "- Seth Jovellana\n",
    "- Janica Megan Reyes\n",
    "- Abigail Vicencio\n",
    "\n",
    "---\n",
    "Dataset uploaded by user JAINA to kaggle at https://www.kaggle.com/datasets/jainaru/global-ecological-footprint-2023\n"
   ]
  },
  {
   "cell_type": "markdown",
   "id": "e5d4d5e5-f47b-45d9-8758-84f061a164df",
   "metadata": {},
   "source": [
    "# Dataset Description\n",
    "This dataset contains measures of various ecological assets that a country needs to produce the natural resources that its population consumes. Six categories are tracked:\n",
    "- Crop land\n",
    "- Grazing land\n",
    "- Fishing grounds\n",
    "- Built-up (urban) land\n",
    "- Forest area\n",
    "- Carbon demand on land\n"
   ]
  },
  {
   "cell_type": "code",
   "execution_count": 2,
   "id": "c207f877-9cf1-4cd9-8601-b7c2cdd2c92c",
   "metadata": {},
   "outputs": [],
   "source": [
    "import pandas as pd\n",
    "import numpy as np\n",
    "import matplotlib.pyplot as plt"
   ]
  },
  {
   "cell_type": "code",
   "execution_count": 10,
   "id": "28548927-6153-43f1-b638-2162d2aa45ae",
   "metadata": {},
   "outputs": [],
   "source": [
    "# Need a specific encode setting to decode without eror.\n",
    "eco_df = pd.read_csv('global-ecological-footprint-2023.csv', encoding = 'unicode_escape')"
   ]
  },
  {
   "cell_type": "code",
   "execution_count": 11,
   "id": "ba647d14-e243-45c8-b58d-90812652a2df",
   "metadata": {},
   "outputs": [
    {
     "name": "stdout",
     "output_type": "stream",
     "text": [
      "<class 'pandas.core.frame.DataFrame'>\n",
      "RangeIndex: 182 entries, 0 to 181\n",
      "Data columns (total 24 columns):\n",
      " #   Column                                    Non-Null Count  Dtype  \n",
      "---  ------                                    --------------  -----  \n",
      " 0   Country                                   182 non-null    object \n",
      " 1   Region                                    182 non-null    object \n",
      " 2   SDGi                                      159 non-null    object \n",
      " 3   Life Exectancy                            176 non-null    object \n",
      " 4   HDI                                       173 non-null    object \n",
      " 5   Per Capita GDP                            165 non-null    object \n",
      " 6   Income Group                              178 non-null    object \n",
      " 7   Population (millions)                     182 non-null    object \n",
      " 8   Cropland Footprint                        152 non-null    float64\n",
      " 9   Grazing Footprint                         152 non-null    float64\n",
      " 10  Forest Product Footprint                  152 non-null    float64\n",
      " 11  Carbon Footprint                          152 non-null    float64\n",
      " 12  Fish Footprint                            152 non-null    float64\n",
      " 13  Built up land                             152 non-null    float64\n",
      " 14  Total Ecological Footprint (Consumption)  181 non-null    float64\n",
      " 15  Cropland                                  152 non-null    float64\n",
      " 16  Grazing land                              152 non-null    float64\n",
      " 17  Forest land                               152 non-null    float64\n",
      " 18  Fishing ground                            152 non-null    float64\n",
      " 19  Built up land.1                           152 non-null    float64\n",
      " 20  Total biocapacity                         181 non-null    float64\n",
      " 21  Ecological (Deficit) or Reserve           181 non-null    float64\n",
      " 22  Number of Earths required                 181 non-null    float64\n",
      " 23  Number of Countries required              181 non-null    float64\n",
      "dtypes: float64(16), object(8)\n",
      "memory usage: 34.3+ KB\n"
     ]
    }
   ],
   "source": [
    "eco_df.info()"
   ]
  },
  {
   "cell_type": "code",
   "execution_count": null,
   "id": "a3644081-448e-43dc-be8b-43b0289ed701",
   "metadata": {},
   "outputs": [],
   "source": []
  }
 ],
 "metadata": {
  "kernelspec": {
   "display_name": "Python 3 (ipykernel)",
   "language": "python",
   "name": "python3"
  },
  "language_info": {
   "codemirror_mode": {
    "name": "ipython",
    "version": 3
   },
   "file_extension": ".py",
   "mimetype": "text/x-python",
   "name": "python",
   "nbconvert_exporter": "python",
   "pygments_lexer": "ipython3",
   "version": "3.11.7"
  }
 },
 "nbformat": 4,
 "nbformat_minor": 5
}
