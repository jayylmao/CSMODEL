{
 "cells": [
  {
   "attachments": {},
   "cell_type": "markdown",
   "id": "6879be0d-5234-4242-a21e-e9d0d038743e",
   "metadata": {},
   "source": [
    "# Global Ecological Footprint 2023\n",
    "**Group 6**\n",
    "- Jay Michael Carlos\n",
    "- Seth Jovellana\n",
    "- Janica Megan Reyes\n",
    "- Abigail Vicencio\n",
    "\n",
    "---\n",
    "The dataset was uploaded by JAINA to the kaggle website and can be accessed through the link (https://www.kaggle.com/datasets/jainaru/global-ecological-footprint-2023).\n",
    "\n",
    "This dataset was originally used by York University Ecological Footprint Initiative & Global Footprint Network. Public Data Package of the National Footprint and Biocapacity Accounts, 2023 edition. Produced for the Footprint Data Foundation and distributed by Global Footprint Network. Available online at: https://data.footprintnetwork.org."
   ]
  },
  {
   "cell_type": "markdown",
   "id": "e5d4d5e5-f47b-45d9-8758-84f061a164df",
   "metadata": {},
   "source": [
    "# I. Dataset Description\n",
    "This dataset contains measures of various ecological assets that a country needs to produce the natural resources that its population consumes. Six categories are tracked:\n",
    "- Crop land\n",
    "- Grazing land\n",
    "- Fishing grounds\n",
    "- Built-up (urban) land\n",
    "- Forest area\n",
    "- Carbon demand on land\n",
    "In addition, it also contains other economic factors such as per capita GDP and income group."
   ]
  },
  {
   "cell_type": "code",
   "execution_count": 1,
   "id": "c207f877-9cf1-4cd9-8601-b7c2cdd2c92c",
   "metadata": {},
   "outputs": [],
   "source": [
    "import pandas as pd\n",
    "import numpy as np\n",
    "import matplotlib.pyplot as plt\n",
    "from scipy.stats import chi2_contingency\n",
    "from rule_miner import RuleMiner\n",
    "\n",
    "# Non-essential line for theming. If this theme is ever deprecated in the future, you can remove it with no issue.\n",
    "plt.style.use('seaborn-v0_8-dark-palette')"
   ]
  },
  {
   "cell_type": "code",
   "execution_count": 2,
   "id": "28548927-6153-43f1-b638-2162d2aa45ae",
   "metadata": {},
   "outputs": [],
   "source": [
    "# Need a specific encode setting to decode without eror.\n",
    "eco_df = pd.read_csv('global-ecological-footprint-2023.csv', encoding='latin1')"
   ]
  },
  {
   "cell_type": "code",
   "execution_count": 3,
   "id": "ba647d14-e243-45c8-b58d-90812652a2df",
   "metadata": {},
   "outputs": [
    {
     "name": "stdout",
     "output_type": "stream",
     "text": [
      "<class 'pandas.core.frame.DataFrame'>\n",
      "RangeIndex: 182 entries, 0 to 181\n",
      "Data columns (total 24 columns):\n",
      " #   Column                                    Non-Null Count  Dtype  \n",
      "---  ------                                    --------------  -----  \n",
      " 0   Country                                   182 non-null    object \n",
      " 1   Region                                    182 non-null    object \n",
      " 2   SDGi                                      159 non-null    object \n",
      " 3   Life Exectancy                            176 non-null    object \n",
      " 4   HDI                                       173 non-null    object \n",
      " 5   Per Capita GDP                            165 non-null    object \n",
      " 6   Income Group                              178 non-null    object \n",
      " 7   Population (millions)                     182 non-null    object \n",
      " 8   Cropland Footprint                        152 non-null    float64\n",
      " 9   Grazing Footprint                         152 non-null    float64\n",
      " 10  Forest Product Footprint                  152 non-null    float64\n",
      " 11  Carbon Footprint                          152 non-null    float64\n",
      " 12  Fish Footprint                            152 non-null    float64\n",
      " 13  Built up land                             152 non-null    float64\n",
      " 14  Total Ecological Footprint (Consumption)  181 non-null    float64\n",
      " 15  Cropland                                  152 non-null    float64\n",
      " 16  Grazing land                              152 non-null    float64\n",
      " 17  Forest land                               152 non-null    float64\n",
      " 18  Fishing ground                            152 non-null    float64\n",
      " 19  Built up land.1                           152 non-null    float64\n",
      " 20  Total biocapacity                         181 non-null    float64\n",
      " 21  Ecological (Deficit) or Reserve           181 non-null    float64\n",
      " 22  Number of Earths required                 181 non-null    float64\n",
      " 23  Number of Countries required              181 non-null    float64\n",
      "dtypes: float64(16), object(8)\n",
      "memory usage: 34.3+ KB\n"
     ]
    }
   ],
   "source": [
    "eco_df.info()"
   ]
  },
  {
   "cell_type": "markdown",
   "id": "85412dcf-9206-4e0d-869c-b25580678d5c",
   "metadata": {},
   "source": [
    "## I.1 Collection process and methodology"
   ]
  },
  {
   "cell_type": "markdown",
   "id": "ee2e7dd2-5f66-430a-86f6-2c644431c6f5",
   "metadata": {},
   "source": []
  },
  {
   "attachments": {},
   "cell_type": "markdown",
   "id": "091dec1e-b5c0-4e8a-a88f-5f8bcfa301d1",
   "metadata": {},
   "source": [
    "The dataset is taken from the 2022 results of the National Footprint and Biocapacity Accounts 2023 Edition by the York University Ecological Footprint Initiative, which measures ecological resource use and the resource regeneration capacity of countries over time. The original data was gathered from UN data sets, with some estimates based on historic data from 1961 to 2019. (York University Ecological Footprint Initiative & Global Footprint Network, 2023)"
   ]
  },
  {
   "cell_type": "markdown",
   "id": "42832042-131a-41a1-afa1-1e6c11737285",
   "metadata": {},
   "source": [
    "## I.2 Structure\n",
    "Each column of the dataset represents a country's measure, such as the average life expectancy or its population. Each row is an observation of the measures per country."
   ]
  },
  {
   "cell_type": "code",
   "execution_count": 4,
   "id": "2dd26177-cf45-4484-b959-171700de879c",
   "metadata": {},
   "outputs": [
    {
     "data": {
      "text/html": [
       "<div>\n",
       "<style scoped>\n",
       "    .dataframe tbody tr th:only-of-type {\n",
       "        vertical-align: middle;\n",
       "    }\n",
       "\n",
       "    .dataframe tbody tr th {\n",
       "        vertical-align: top;\n",
       "    }\n",
       "\n",
       "    .dataframe thead th {\n",
       "        text-align: right;\n",
       "    }\n",
       "</style>\n",
       "<table border=\"1\" class=\"dataframe\">\n",
       "  <thead>\n",
       "    <tr style=\"text-align: right;\">\n",
       "      <th></th>\n",
       "      <th>Country</th>\n",
       "      <th>Region</th>\n",
       "      <th>SDGi</th>\n",
       "      <th>Life Exectancy</th>\n",
       "      <th>HDI</th>\n",
       "      <th>Per Capita GDP</th>\n",
       "      <th>Income Group</th>\n",
       "      <th>Population (millions)</th>\n",
       "      <th>Cropland Footprint</th>\n",
       "      <th>Grazing Footprint</th>\n",
       "      <th>...</th>\n",
       "      <th>Total Ecological Footprint (Consumption)</th>\n",
       "      <th>Cropland</th>\n",
       "      <th>Grazing land</th>\n",
       "      <th>Forest land</th>\n",
       "      <th>Fishing ground</th>\n",
       "      <th>Built up land.1</th>\n",
       "      <th>Total biocapacity</th>\n",
       "      <th>Ecological (Deficit) or Reserve</th>\n",
       "      <th>Number of Earths required</th>\n",
       "      <th>Number of Countries required</th>\n",
       "    </tr>\n",
       "  </thead>\n",
       "  <tbody>\n",
       "    <tr>\n",
       "      <th>0</th>\n",
       "      <td>Afghanistan</td>\n",
       "      <td>Middle East/Central Asia</td>\n",
       "      <td>52.5</td>\n",
       "      <td>62</td>\n",
       "      <td>0.48</td>\n",
       "      <td>NaN</td>\n",
       "      <td>LI</td>\n",
       "      <td>40.8</td>\n",
       "      <td>0.4</td>\n",
       "      <td>0.1</td>\n",
       "      <td>...</td>\n",
       "      <td>0.8</td>\n",
       "      <td>0.3</td>\n",
       "      <td>0.1</td>\n",
       "      <td>0.012981</td>\n",
       "      <td>0.000565</td>\n",
       "      <td>0.028232</td>\n",
       "      <td>0.513827</td>\n",
       "      <td>-0.287638</td>\n",
       "      <td>0.530696</td>\n",
       "      <td>1.559795</td>\n",
       "    </tr>\n",
       "    <tr>\n",
       "      <th>1</th>\n",
       "      <td>Albania</td>\n",
       "      <td>Other Europe</td>\n",
       "      <td>71.6</td>\n",
       "      <td>76</td>\n",
       "      <td>0.8</td>\n",
       "      <td>$14,889</td>\n",
       "      <td>UM</td>\n",
       "      <td>2.9</td>\n",
       "      <td>0.8</td>\n",
       "      <td>0.2</td>\n",
       "      <td>...</td>\n",
       "      <td>2.1</td>\n",
       "      <td>0.6</td>\n",
       "      <td>0.2</td>\n",
       "      <td>0.223326</td>\n",
       "      <td>0.081392</td>\n",
       "      <td>0.073006</td>\n",
       "      <td>1.176752</td>\n",
       "      <td>-0.894486</td>\n",
       "      <td>1.371485</td>\n",
       "      <td>1.760131</td>\n",
       "    </tr>\n",
       "    <tr>\n",
       "      <th>2</th>\n",
       "      <td>Algeria</td>\n",
       "      <td>Africa</td>\n",
       "      <td>71.5</td>\n",
       "      <td>76</td>\n",
       "      <td>0.75</td>\n",
       "      <td>$11,137</td>\n",
       "      <td>UM</td>\n",
       "      <td>45.4</td>\n",
       "      <td>0.7</td>\n",
       "      <td>0.2</td>\n",
       "      <td>...</td>\n",
       "      <td>2.2</td>\n",
       "      <td>0.4</td>\n",
       "      <td>0.2</td>\n",
       "      <td>0.023912</td>\n",
       "      <td>0.007179</td>\n",
       "      <td>0.037775</td>\n",
       "      <td>0.663375</td>\n",
       "      <td>-1.559593</td>\n",
       "      <td>1.471955</td>\n",
       "      <td>3.350998</td>\n",
       "    </tr>\n",
       "    <tr>\n",
       "      <th>3</th>\n",
       "      <td>Angola</td>\n",
       "      <td>Africa</td>\n",
       "      <td>50.9</td>\n",
       "      <td>62</td>\n",
       "      <td>0.59</td>\n",
       "      <td>$6,304</td>\n",
       "      <td>LM</td>\n",
       "      <td>35</td>\n",
       "      <td>0.2</td>\n",
       "      <td>0.1</td>\n",
       "      <td>...</td>\n",
       "      <td>0.9</td>\n",
       "      <td>0.2</td>\n",
       "      <td>0.8</td>\n",
       "      <td>0.416888</td>\n",
       "      <td>0.153499</td>\n",
       "      <td>0.061360</td>\n",
       "      <td>1.588191</td>\n",
       "      <td>0.730346</td>\n",
       "      <td>0.568029</td>\n",
       "      <td>0.540140</td>\n",
       "    </tr>\n",
       "    <tr>\n",
       "      <th>4</th>\n",
       "      <td>Antigua and Barbuda</td>\n",
       "      <td>Central America/Caribbean</td>\n",
       "      <td>NaN</td>\n",
       "      <td>78</td>\n",
       "      <td>0.79</td>\n",
       "      <td>$18,749</td>\n",
       "      <td>HI</td>\n",
       "      <td>0.1</td>\n",
       "      <td>NaN</td>\n",
       "      <td>NaN</td>\n",
       "      <td>...</td>\n",
       "      <td>2.9</td>\n",
       "      <td>NaN</td>\n",
       "      <td>NaN</td>\n",
       "      <td>NaN</td>\n",
       "      <td>NaN</td>\n",
       "      <td>NaN</td>\n",
       "      <td>0.917277</td>\n",
       "      <td>-2.019458</td>\n",
       "      <td>1.944580</td>\n",
       "      <td>3.201578</td>\n",
       "    </tr>\n",
       "  </tbody>\n",
       "</table>\n",
       "<p>5 rows × 24 columns</p>\n",
       "</div>"
      ],
      "text/plain": [
       "               Country                     Region  SDGi Life Exectancy   HDI  \\\n",
       "0          Afghanistan   Middle East/Central Asia  52.5             62  0.48   \n",
       "1              Albania               Other Europe  71.6             76   0.8   \n",
       "2              Algeria                     Africa  71.5             76  0.75   \n",
       "3               Angola                     Africa  50.9             62  0.59   \n",
       "4  Antigua and Barbuda  Central America/Caribbean   NaN             78  0.79   \n",
       "\n",
       "  Per Capita GDP Income Group Population (millions)  Cropland Footprint  \\\n",
       "0            NaN           LI                  40.8                 0.4   \n",
       "1       $14,889            UM                   2.9                 0.8   \n",
       "2       $11,137            UM                  45.4                 0.7   \n",
       "3        $6,304            LM                    35                 0.2   \n",
       "4       $18,749            HI                   0.1                 NaN   \n",
       "\n",
       "   Grazing Footprint  ...  Total Ecological Footprint (Consumption)  Cropland  \\\n",
       "0                0.1  ...                                       0.8       0.3   \n",
       "1                0.2  ...                                       2.1       0.6   \n",
       "2                0.2  ...                                       2.2       0.4   \n",
       "3                0.1  ...                                       0.9       0.2   \n",
       "4                NaN  ...                                       2.9       NaN   \n",
       "\n",
       "   Grazing land  Forest land  Fishing ground  Built up land.1  \\\n",
       "0           0.1     0.012981        0.000565         0.028232   \n",
       "1           0.2     0.223326        0.081392         0.073006   \n",
       "2           0.2     0.023912        0.007179         0.037775   \n",
       "3           0.8     0.416888        0.153499         0.061360   \n",
       "4           NaN          NaN             NaN              NaN   \n",
       "\n",
       "   Total biocapacity   Ecological (Deficit) or Reserve  \\\n",
       "0            0.513827                        -0.287638   \n",
       "1            1.176752                        -0.894486   \n",
       "2            0.663375                        -1.559593   \n",
       "3            1.588191                         0.730346   \n",
       "4            0.917277                        -2.019458   \n",
       "\n",
       "   Number of Earths required  Number of Countries required  \n",
       "0                   0.530696                      1.559795  \n",
       "1                   1.371485                      1.760131  \n",
       "2                   1.471955                      3.350998  \n",
       "3                   0.568029                      0.540140  \n",
       "4                   1.944580                      3.201578  \n",
       "\n",
       "[5 rows x 24 columns]"
      ]
     },
     "execution_count": 4,
     "metadata": {},
     "output_type": "execute_result"
    }
   ],
   "source": [
    "eco_df.head()"
   ]
  },
  {
   "cell_type": "markdown",
   "id": "ca74c433-df68-4eda-bbd7-d08bdd0e9df2",
   "metadata": {},
   "source": [
    "## I.3 Column definitions\n",
    "0. **Country**: The name of the country being observed.\n",
    "1. **Region**: The region of the world that the country is in, like Asia-Pacific, North America, Africa, etc.\n",
    "2. **SDGi**: The SDG Index is a measure of progress of all UN member states on the Sustainable Development Goals.\n",
    "3. **Life Exectancy** *\\(sic\\)*: The number of years a person can expect to live. (Esteban Ortiz-Ospina, 2017)\n",
    "4. **HDI**: The United Nations' Human Development Index is an approximate measure of economic and social development based on three dimensions: health, education, and standard of living. Health is measured by life expectancy at birth, education is measured by mean of years of schooling, and standard of living is measured by gross national income per capita. Each country is then given a value from 0 to 1. An HDI of > 0.7 is considered \"high human development\". (United Nations Development Programme, 2023)\n",
    "5. **Per Capita GDP**: Measured as the GDP (gross domestic product) of a nation divided by its population. It is used to measure the prosperity of a nation. (Investopedia, 2024)\n",
    "6. **Income Group**: The World Bank Group (2023) assigns countries around the world to one of four income groups: low, lower-middle, upper-middle, and high. This is represented in the dataset as LI (low), LM (lower-middle), UM (upper-middle), and HI (high).\n",
    "7. **Population (millions)**: All people inhabiting a country, shown in millions in the dataset. (Merriam-Webster, 2024)\n",
    "8. **Cropland Footprint**: The ecological footprint (defined below) used to produce food and fiber for human consumption and feed for livestock and other uses. All footprint is measured in global hectares per person. (York University Ecological Footprint Initiative & Global Footprint Network, 2023)\n",
    "9. **Grazing Footprint**: The ecological footprint of domestic livestock performing grazing activities. This is measured in global hectares per person (Econation, n.d.).\n",
    "10. **Forest Product Footprint**: The ecological footprint of converting forest resources into forest products. This is measured in global hectares per person (York University Ecological Footprint Initiative & Global Footprint Network, 2023).\n",
    "11. **Carbon Footprint**: The ecological footprint of carbon dioxide emissions from burning fossil fuels and cement production. This is measured in global hectares per person (York University Ecological Footprint Initiative & Global Footprint Network, 2023).\n",
    "12. **Fish Footprint**: The ecological footprint of the population’s consumption of fish products. This is measured in global hectares per person (York University Ecological Footprint Initiative & Global Footprint Network, 2023).\n",
    "13. **Built up land**: The ecological footprint of land covered with infrastructures. This is measured in global hectares per person (European Environment Agency, n.d.).\n",
    "14. **Total Ecological Footprint (Consumption)**: A measure of productive land and water area that a population requires to produce all the resources it consumes and to absorb the waste that it generates. This is measured in **global hectares per person**, which is defined as a biologically productive hectare with world average productivity. (York University Ecological Footprint Initiative & Global Footprint Network, 2023)\n",
    "15. **Cropland**: The biocapacity of land used to produce food and fiber for human consumption and feed. (York University Ecological Footprint Initiative & Global Footprint Network, 2023)\n",
    "16. **Grazing land**: The biocapacity of land that is suitable for grazing by livestock, commonly covered with grass or herbage. This is measured in global hectares per person. (Foreign-Assisted and Special Projects Service, n.d.)\n",
    "17. **Forest land**: The biocapacity of land covered with forest or reserved for the growth of forests.  This is measured in global hectares per person. (Foreign-Assisted and Special Projects Service, n.d.)\n",
    "18. **Fishing ground**: The biocapacity of an area in a body of water where fish can easily be caught. This is measured in global hectares per person. (Collins Dictionary, n.d.)\n",
    "19. **Built up land**:  The biocapacity to land wherein infrastructure and other facilities can be built. This is measured in global hectares per person. \n",
    "20. Total biocapacity: The capacity of biologically productive areas to provide for human demand (footprints). It is also measured in global hectares per person. (York University Ecological Footprint Initiative & Global Footprint Network, 2023)\n",
    "21. **Ecological (Deficit) or Reserve**: This variable measures a country's ecological footprint relative to its biocapacity. If the country's ecological footprint exceeds its biocapacity, there is an ecological deficit. If the country's biocapacity exceeds its ecological footprint, there is an ecological reserve. Like biocapacity and ecological footprint, this is measured in global hectares per person. (York University Ecological Footprint Initiative & Global Footprint Network, 2023)\n",
    "22. **Number of Earths required**: The number of planet Earths required for everyone in the world to sustain the resources needed to live the average lifestyle of a person in the observed country. (York University Ecological Footprint Initiative & Global Footprint Network, 2023)\n",
    "23. **Number of Countries required**: Represents how many times the observed country's total biocapacity is needed to provide for its consumption footprint. (York University Ecological Footprint Initiative & Global Footprint Network, 2023)"
   ]
  },
  {
   "cell_type": "markdown",
   "id": "b3626d84-edbb-4d57-abe6-1e469d383f7b",
   "metadata": {},
   "source": [
    "# II. Data Cleaning"
   ]
  },
  {
   "cell_type": "markdown",
   "id": "71ce61a3-4394-4673-b85c-4514cddeb16b",
   "metadata": {},
   "source": [
    "One of the variables to be used is Per Capita GDP. It is represented with a dollar sign and is formatted with commas for readability, however, to properly visualize it, it must be converted to a standard float value without the dollar sign and commas. Additionally, the 19 missing values must be dropped from the table. There is a total of 182 countries, so dropping 19 countries: \n",
    "\n",
    "$$\\frac{19}{182} \\approx 0.1044 \\approx 10.44\\%$$\n",
    "\n",
    "is not going to be a significant issue when it comes to analyzing the data below. Note that while the count of NaN is listed as 17, there are actually two other countries with blank values, although those are mistakenly encoded as a space instead of NaN, so they must be removed too."
   ]
  },
  {
   "cell_type": "code",
   "execution_count": 5,
   "id": "73a658d9-e8c2-4d01-9a9f-c82f862cfe6b",
   "metadata": {},
   "outputs": [],
   "source": [
    "cleaned_df = eco_df"
   ]
  },
  {
   "cell_type": "code",
   "execution_count": 6,
   "id": "b7a25632-e036-4945-a3ef-c15c3447f8dc",
   "metadata": {},
   "outputs": [
    {
     "name": "stdout",
     "output_type": "stream",
     "text": [
      "There are 17 countries listed as NaN in the per capita GDP column.\n"
     ]
    }
   ],
   "source": [
    "cleaned_per_capita_gdp = cleaned_df['Per Capita GDP'].isna().sum()\n",
    "print('There are', cleaned_per_capita_gdp, 'countries listed as NaN in the per capita GDP column.')"
   ]
  },
  {
   "cell_type": "code",
   "execution_count": 7,
   "id": "ce292a3f-d825-4457-9a3f-ba8915e1dfa6",
   "metadata": {},
   "outputs": [
    {
     "data": {
      "text/html": [
       "<div>\n",
       "<style scoped>\n",
       "    .dataframe tbody tr th:only-of-type {\n",
       "        vertical-align: middle;\n",
       "    }\n",
       "\n",
       "    .dataframe tbody tr th {\n",
       "        vertical-align: top;\n",
       "    }\n",
       "\n",
       "    .dataframe thead th {\n",
       "        text-align: right;\n",
       "    }\n",
       "</style>\n",
       "<table border=\"1\" class=\"dataframe\">\n",
       "  <thead>\n",
       "    <tr style=\"text-align: right;\">\n",
       "      <th></th>\n",
       "      <th>Country</th>\n",
       "      <th>Region</th>\n",
       "      <th>SDGi</th>\n",
       "      <th>Life Exectancy</th>\n",
       "      <th>HDI</th>\n",
       "      <th>Per Capita GDP</th>\n",
       "      <th>Income Group</th>\n",
       "      <th>Population (millions)</th>\n",
       "      <th>Cropland Footprint</th>\n",
       "      <th>Grazing Footprint</th>\n",
       "      <th>...</th>\n",
       "      <th>Total Ecological Footprint (Consumption)</th>\n",
       "      <th>Cropland</th>\n",
       "      <th>Grazing land</th>\n",
       "      <th>Forest land</th>\n",
       "      <th>Fishing ground</th>\n",
       "      <th>Built up land.1</th>\n",
       "      <th>Total biocapacity</th>\n",
       "      <th>Ecological (Deficit) or Reserve</th>\n",
       "      <th>Number of Earths required</th>\n",
       "      <th>Number of Countries required</th>\n",
       "    </tr>\n",
       "  </thead>\n",
       "  <tbody>\n",
       "    <tr>\n",
       "      <th>1</th>\n",
       "      <td>Albania</td>\n",
       "      <td>Other Europe</td>\n",
       "      <td>71.6</td>\n",
       "      <td>76</td>\n",
       "      <td>0.8</td>\n",
       "      <td>$14,889</td>\n",
       "      <td>UM</td>\n",
       "      <td>2.9</td>\n",
       "      <td>0.8</td>\n",
       "      <td>0.2</td>\n",
       "      <td>...</td>\n",
       "      <td>2.1</td>\n",
       "      <td>0.6</td>\n",
       "      <td>0.2</td>\n",
       "      <td>0.223326</td>\n",
       "      <td>0.081392</td>\n",
       "      <td>0.073006</td>\n",
       "      <td>1.176752</td>\n",
       "      <td>-0.894486</td>\n",
       "      <td>1.371485</td>\n",
       "      <td>1.760131</td>\n",
       "    </tr>\n",
       "    <tr>\n",
       "      <th>2</th>\n",
       "      <td>Algeria</td>\n",
       "      <td>Africa</td>\n",
       "      <td>71.5</td>\n",
       "      <td>76</td>\n",
       "      <td>0.75</td>\n",
       "      <td>$11,137</td>\n",
       "      <td>UM</td>\n",
       "      <td>45.4</td>\n",
       "      <td>0.7</td>\n",
       "      <td>0.2</td>\n",
       "      <td>...</td>\n",
       "      <td>2.2</td>\n",
       "      <td>0.4</td>\n",
       "      <td>0.2</td>\n",
       "      <td>0.023912</td>\n",
       "      <td>0.007179</td>\n",
       "      <td>0.037775</td>\n",
       "      <td>0.663375</td>\n",
       "      <td>-1.559593</td>\n",
       "      <td>1.471955</td>\n",
       "      <td>3.350998</td>\n",
       "    </tr>\n",
       "    <tr>\n",
       "      <th>3</th>\n",
       "      <td>Angola</td>\n",
       "      <td>Africa</td>\n",
       "      <td>50.9</td>\n",
       "      <td>62</td>\n",
       "      <td>0.59</td>\n",
       "      <td>$6,304</td>\n",
       "      <td>LM</td>\n",
       "      <td>35</td>\n",
       "      <td>0.2</td>\n",
       "      <td>0.1</td>\n",
       "      <td>...</td>\n",
       "      <td>0.9</td>\n",
       "      <td>0.2</td>\n",
       "      <td>0.8</td>\n",
       "      <td>0.416888</td>\n",
       "      <td>0.153499</td>\n",
       "      <td>0.061360</td>\n",
       "      <td>1.588191</td>\n",
       "      <td>0.730346</td>\n",
       "      <td>0.568029</td>\n",
       "      <td>0.540140</td>\n",
       "    </tr>\n",
       "    <tr>\n",
       "      <th>4</th>\n",
       "      <td>Antigua and Barbuda</td>\n",
       "      <td>Central America/Caribbean</td>\n",
       "      <td>NaN</td>\n",
       "      <td>78</td>\n",
       "      <td>0.79</td>\n",
       "      <td>$18,749</td>\n",
       "      <td>HI</td>\n",
       "      <td>0.1</td>\n",
       "      <td>NaN</td>\n",
       "      <td>NaN</td>\n",
       "      <td>...</td>\n",
       "      <td>2.9</td>\n",
       "      <td>NaN</td>\n",
       "      <td>NaN</td>\n",
       "      <td>NaN</td>\n",
       "      <td>NaN</td>\n",
       "      <td>NaN</td>\n",
       "      <td>0.917277</td>\n",
       "      <td>-2.019458</td>\n",
       "      <td>1.944580</td>\n",
       "      <td>3.201578</td>\n",
       "    </tr>\n",
       "    <tr>\n",
       "      <th>5</th>\n",
       "      <td>Argentina</td>\n",
       "      <td>South America</td>\n",
       "      <td>72.8</td>\n",
       "      <td>75</td>\n",
       "      <td>0.84</td>\n",
       "      <td>$22,117</td>\n",
       "      <td>UM</td>\n",
       "      <td>46</td>\n",
       "      <td>0.9</td>\n",
       "      <td>0.5</td>\n",
       "      <td>...</td>\n",
       "      <td>3.2</td>\n",
       "      <td>1.8</td>\n",
       "      <td>1.2</td>\n",
       "      <td>0.591673</td>\n",
       "      <td>1.527615</td>\n",
       "      <td>0.083517</td>\n",
       "      <td>5.231663</td>\n",
       "      <td>2.011045</td>\n",
       "      <td>2.132556</td>\n",
       "      <td>0.615601</td>\n",
       "    </tr>\n",
       "  </tbody>\n",
       "</table>\n",
       "<p>5 rows × 24 columns</p>\n",
       "</div>"
      ],
      "text/plain": [
       "               Country                     Region  SDGi Life Exectancy   HDI  \\\n",
       "1              Albania               Other Europe  71.6             76   0.8   \n",
       "2              Algeria                     Africa  71.5             76  0.75   \n",
       "3               Angola                     Africa  50.9             62  0.59   \n",
       "4  Antigua and Barbuda  Central America/Caribbean   NaN             78  0.79   \n",
       "5            Argentina              South America  72.8             75  0.84   \n",
       "\n",
       "  Per Capita GDP Income Group Population (millions)  Cropland Footprint  \\\n",
       "1       $14,889            UM                   2.9                 0.8   \n",
       "2       $11,137            UM                  45.4                 0.7   \n",
       "3        $6,304            LM                    35                 0.2   \n",
       "4       $18,749            HI                   0.1                 NaN   \n",
       "5       $22,117            UM                    46                 0.9   \n",
       "\n",
       "   Grazing Footprint  ...  Total Ecological Footprint (Consumption)  Cropland  \\\n",
       "1                0.2  ...                                       2.1       0.6   \n",
       "2                0.2  ...                                       2.2       0.4   \n",
       "3                0.1  ...                                       0.9       0.2   \n",
       "4                NaN  ...                                       2.9       NaN   \n",
       "5                0.5  ...                                       3.2       1.8   \n",
       "\n",
       "   Grazing land  Forest land  Fishing ground  Built up land.1  \\\n",
       "1           0.2     0.223326        0.081392         0.073006   \n",
       "2           0.2     0.023912        0.007179         0.037775   \n",
       "3           0.8     0.416888        0.153499         0.061360   \n",
       "4           NaN          NaN             NaN              NaN   \n",
       "5           1.2     0.591673        1.527615         0.083517   \n",
       "\n",
       "   Total biocapacity   Ecological (Deficit) or Reserve  \\\n",
       "1            1.176752                        -0.894486   \n",
       "2            0.663375                        -1.559593   \n",
       "3            1.588191                         0.730346   \n",
       "4            0.917277                        -2.019458   \n",
       "5            5.231663                         2.011045   \n",
       "\n",
       "   Number of Earths required  Number of Countries required  \n",
       "1                   1.371485                      1.760131  \n",
       "2                   1.471955                      3.350998  \n",
       "3                   0.568029                      0.540140  \n",
       "4                   1.944580                      3.201578  \n",
       "5                   2.132556                      0.615601  \n",
       "\n",
       "[5 rows x 24 columns]"
      ]
     },
     "execution_count": 7,
     "metadata": {},
     "output_type": "execute_result"
    }
   ],
   "source": [
    "cleaned_df = cleaned_df.replace(' ', np.nan)\n",
    "cleaned_df = cleaned_df[cleaned_df['Per Capita GDP'].notna()]\n",
    "\n",
    "cleaned_df.head()"
   ]
  },
  {
   "cell_type": "code",
   "execution_count": 8,
   "id": "1439a78e-b761-4acb-b304-6eb78776b0d3",
   "metadata": {},
   "outputs": [
    {
     "data": {
      "text/html": [
       "<div>\n",
       "<style scoped>\n",
       "    .dataframe tbody tr th:only-of-type {\n",
       "        vertical-align: middle;\n",
       "    }\n",
       "\n",
       "    .dataframe tbody tr th {\n",
       "        vertical-align: top;\n",
       "    }\n",
       "\n",
       "    .dataframe thead th {\n",
       "        text-align: right;\n",
       "    }\n",
       "</style>\n",
       "<table border=\"1\" class=\"dataframe\">\n",
       "  <thead>\n",
       "    <tr style=\"text-align: right;\">\n",
       "      <th></th>\n",
       "      <th>Country</th>\n",
       "      <th>Region</th>\n",
       "      <th>SDGi</th>\n",
       "      <th>Life Exectancy</th>\n",
       "      <th>HDI</th>\n",
       "      <th>Per Capita GDP</th>\n",
       "      <th>Income Group</th>\n",
       "      <th>Population (millions)</th>\n",
       "      <th>Cropland Footprint</th>\n",
       "      <th>Grazing Footprint</th>\n",
       "      <th>...</th>\n",
       "      <th>Total Ecological Footprint (Consumption)</th>\n",
       "      <th>Cropland</th>\n",
       "      <th>Grazing land</th>\n",
       "      <th>Forest land</th>\n",
       "      <th>Fishing ground</th>\n",
       "      <th>Built up land.1</th>\n",
       "      <th>Total biocapacity</th>\n",
       "      <th>Ecological (Deficit) or Reserve</th>\n",
       "      <th>Number of Earths required</th>\n",
       "      <th>Number of Countries required</th>\n",
       "    </tr>\n",
       "  </thead>\n",
       "  <tbody>\n",
       "    <tr>\n",
       "      <th>1</th>\n",
       "      <td>Albania</td>\n",
       "      <td>Other Europe</td>\n",
       "      <td>71.6</td>\n",
       "      <td>76</td>\n",
       "      <td>0.8</td>\n",
       "      <td>14889</td>\n",
       "      <td>UM</td>\n",
       "      <td>2.9</td>\n",
       "      <td>0.8</td>\n",
       "      <td>0.2</td>\n",
       "      <td>...</td>\n",
       "      <td>2.1</td>\n",
       "      <td>0.6</td>\n",
       "      <td>0.2</td>\n",
       "      <td>0.223326</td>\n",
       "      <td>0.081392</td>\n",
       "      <td>0.073006</td>\n",
       "      <td>1.176752</td>\n",
       "      <td>-0.894486</td>\n",
       "      <td>1.371485</td>\n",
       "      <td>1.760131</td>\n",
       "    </tr>\n",
       "    <tr>\n",
       "      <th>2</th>\n",
       "      <td>Algeria</td>\n",
       "      <td>Africa</td>\n",
       "      <td>71.5</td>\n",
       "      <td>76</td>\n",
       "      <td>0.75</td>\n",
       "      <td>11137</td>\n",
       "      <td>UM</td>\n",
       "      <td>45.4</td>\n",
       "      <td>0.7</td>\n",
       "      <td>0.2</td>\n",
       "      <td>...</td>\n",
       "      <td>2.2</td>\n",
       "      <td>0.4</td>\n",
       "      <td>0.2</td>\n",
       "      <td>0.023912</td>\n",
       "      <td>0.007179</td>\n",
       "      <td>0.037775</td>\n",
       "      <td>0.663375</td>\n",
       "      <td>-1.559593</td>\n",
       "      <td>1.471955</td>\n",
       "      <td>3.350998</td>\n",
       "    </tr>\n",
       "    <tr>\n",
       "      <th>3</th>\n",
       "      <td>Angola</td>\n",
       "      <td>Africa</td>\n",
       "      <td>50.9</td>\n",
       "      <td>62</td>\n",
       "      <td>0.59</td>\n",
       "      <td>6304</td>\n",
       "      <td>LM</td>\n",
       "      <td>35</td>\n",
       "      <td>0.2</td>\n",
       "      <td>0.1</td>\n",
       "      <td>...</td>\n",
       "      <td>0.9</td>\n",
       "      <td>0.2</td>\n",
       "      <td>0.8</td>\n",
       "      <td>0.416888</td>\n",
       "      <td>0.153499</td>\n",
       "      <td>0.061360</td>\n",
       "      <td>1.588191</td>\n",
       "      <td>0.730346</td>\n",
       "      <td>0.568029</td>\n",
       "      <td>0.540140</td>\n",
       "    </tr>\n",
       "    <tr>\n",
       "      <th>4</th>\n",
       "      <td>Antigua and Barbuda</td>\n",
       "      <td>Central America/Caribbean</td>\n",
       "      <td>NaN</td>\n",
       "      <td>78</td>\n",
       "      <td>0.79</td>\n",
       "      <td>18749</td>\n",
       "      <td>HI</td>\n",
       "      <td>0.1</td>\n",
       "      <td>NaN</td>\n",
       "      <td>NaN</td>\n",
       "      <td>...</td>\n",
       "      <td>2.9</td>\n",
       "      <td>NaN</td>\n",
       "      <td>NaN</td>\n",
       "      <td>NaN</td>\n",
       "      <td>NaN</td>\n",
       "      <td>NaN</td>\n",
       "      <td>0.917277</td>\n",
       "      <td>-2.019458</td>\n",
       "      <td>1.944580</td>\n",
       "      <td>3.201578</td>\n",
       "    </tr>\n",
       "    <tr>\n",
       "      <th>5</th>\n",
       "      <td>Argentina</td>\n",
       "      <td>South America</td>\n",
       "      <td>72.8</td>\n",
       "      <td>75</td>\n",
       "      <td>0.84</td>\n",
       "      <td>22117</td>\n",
       "      <td>UM</td>\n",
       "      <td>46</td>\n",
       "      <td>0.9</td>\n",
       "      <td>0.5</td>\n",
       "      <td>...</td>\n",
       "      <td>3.2</td>\n",
       "      <td>1.8</td>\n",
       "      <td>1.2</td>\n",
       "      <td>0.591673</td>\n",
       "      <td>1.527615</td>\n",
       "      <td>0.083517</td>\n",
       "      <td>5.231663</td>\n",
       "      <td>2.011045</td>\n",
       "      <td>2.132556</td>\n",
       "      <td>0.615601</td>\n",
       "    </tr>\n",
       "  </tbody>\n",
       "</table>\n",
       "<p>5 rows × 24 columns</p>\n",
       "</div>"
      ],
      "text/plain": [
       "               Country                     Region  SDGi Life Exectancy   HDI  \\\n",
       "1              Albania               Other Europe  71.6             76   0.8   \n",
       "2              Algeria                     Africa  71.5             76  0.75   \n",
       "3               Angola                     Africa  50.9             62  0.59   \n",
       "4  Antigua and Barbuda  Central America/Caribbean   NaN             78  0.79   \n",
       "5            Argentina              South America  72.8             75  0.84   \n",
       "\n",
       "   Per Capita GDP Income Group Population (millions)  Cropland Footprint  \\\n",
       "1           14889           UM                   2.9                 0.8   \n",
       "2           11137           UM                  45.4                 0.7   \n",
       "3            6304           LM                    35                 0.2   \n",
       "4           18749           HI                   0.1                 NaN   \n",
       "5           22117           UM                    46                 0.9   \n",
       "\n",
       "   Grazing Footprint  ...  Total Ecological Footprint (Consumption)  Cropland  \\\n",
       "1                0.2  ...                                       2.1       0.6   \n",
       "2                0.2  ...                                       2.2       0.4   \n",
       "3                0.1  ...                                       0.9       0.2   \n",
       "4                NaN  ...                                       2.9       NaN   \n",
       "5                0.5  ...                                       3.2       1.8   \n",
       "\n",
       "   Grazing land  Forest land  Fishing ground  Built up land.1  \\\n",
       "1           0.2     0.223326        0.081392         0.073006   \n",
       "2           0.2     0.023912        0.007179         0.037775   \n",
       "3           0.8     0.416888        0.153499         0.061360   \n",
       "4           NaN          NaN             NaN              NaN   \n",
       "5           1.2     0.591673        1.527615         0.083517   \n",
       "\n",
       "   Total biocapacity   Ecological (Deficit) or Reserve  \\\n",
       "1            1.176752                        -0.894486   \n",
       "2            0.663375                        -1.559593   \n",
       "3            1.588191                         0.730346   \n",
       "4            0.917277                        -2.019458   \n",
       "5            5.231663                         2.011045   \n",
       "\n",
       "   Number of Earths required  Number of Countries required  \n",
       "1                   1.371485                      1.760131  \n",
       "2                   1.471955                      3.350998  \n",
       "3                   0.568029                      0.540140  \n",
       "4                   1.944580                      3.201578  \n",
       "5                   2.132556                      0.615601  \n",
       "\n",
       "[5 rows x 24 columns]"
      ]
     },
     "execution_count": 8,
     "metadata": {},
     "output_type": "execute_result"
    }
   ],
   "source": [
    "cleaned_df['Per Capita GDP'] = cleaned_df['Per Capita GDP'].str.replace('$', '').str.replace(',', '').astype(int)\n",
    "cleaned_df.head()"
   ]
  },
  {
   "cell_type": "markdown",
   "id": "2cc8f9e1-d253-44ad-8d01-b9f7c7204635",
   "metadata": {},
   "source": [
    "Another one is **Total Ecological Footprint (Consumption)**, which is measured in global hectares per person. In the following section, a correlation will be formed between it and per capita GDP, among other variables. Unlike the former, however, there are no missing data points, and it is in the proper data type to be analyzed. Thus, there is no need to clean this column."
   ]
  },
  {
   "cell_type": "code",
   "execution_count": 9,
   "id": "aca6a769-d2f7-40fe-8db0-963e3c8195e6",
   "metadata": {},
   "outputs": [
    {
     "name": "stdout",
     "output_type": "stream",
     "text": [
      "0 NaN values found.\n",
      "<class 'pandas.core.series.Series'>\n",
      "Index: 163 entries, 1 to 179\n",
      "Series name: Total Ecological Footprint (Consumption)\n",
      "Non-Null Count  Dtype  \n",
      "--------------  -----  \n",
      "163 non-null    float64\n",
      "dtypes: float64(1)\n",
      "memory usage: 2.5 KB\n"
     ]
    }
   ],
   "source": [
    "total_ecological_footprint = cleaned_df['Total Ecological Footprint (Consumption)']\n",
    "print(total_ecological_footprint.isnull().sum(), 'NaN values found.')\n",
    "total_ecological_footprint.info()"
   ]
  },
  {
   "cell_type": "markdown",
   "id": "c083b04b-ca49-4804-987a-7839f90c04c4",
   "metadata": {},
   "source": [
    "Next is **Population (millions)**. A similar cleaning process to what was done for **Per Capita GDP** is followed."
   ]
  },
  {
   "cell_type": "code",
   "execution_count": 10,
   "id": "60d56263-2c2e-4699-8555-70e868fdd395",
   "metadata": {},
   "outputs": [
    {
     "name": "stdout",
     "output_type": "stream",
     "text": [
      "There are 0 countries listed as NaN in the population column.\n"
     ]
    }
   ],
   "source": [
    "no_nan_population = cleaned_df['Population (millions)'].isnull().sum()\n",
    "print('There are', no_nan_population, 'countries listed as NaN in the population column.')"
   ]
  },
  {
   "cell_type": "code",
   "execution_count": 11,
   "id": "3d3fbd5d-f60c-46da-b8a9-e7a4107a61cf",
   "metadata": {},
   "outputs": [
    {
     "data": {
      "text/html": [
       "<div>\n",
       "<style scoped>\n",
       "    .dataframe tbody tr th:only-of-type {\n",
       "        vertical-align: middle;\n",
       "    }\n",
       "\n",
       "    .dataframe tbody tr th {\n",
       "        vertical-align: top;\n",
       "    }\n",
       "\n",
       "    .dataframe thead th {\n",
       "        text-align: right;\n",
       "    }\n",
       "</style>\n",
       "<table border=\"1\" class=\"dataframe\">\n",
       "  <thead>\n",
       "    <tr style=\"text-align: right;\">\n",
       "      <th></th>\n",
       "      <th>Country</th>\n",
       "      <th>Region</th>\n",
       "      <th>SDGi</th>\n",
       "      <th>Life Exectancy</th>\n",
       "      <th>HDI</th>\n",
       "      <th>Per Capita GDP</th>\n",
       "      <th>Income Group</th>\n",
       "      <th>Population (millions)</th>\n",
       "      <th>Cropland Footprint</th>\n",
       "      <th>Grazing Footprint</th>\n",
       "      <th>...</th>\n",
       "      <th>Total Ecological Footprint (Consumption)</th>\n",
       "      <th>Cropland</th>\n",
       "      <th>Grazing land</th>\n",
       "      <th>Forest land</th>\n",
       "      <th>Fishing ground</th>\n",
       "      <th>Built up land.1</th>\n",
       "      <th>Total biocapacity</th>\n",
       "      <th>Ecological (Deficit) or Reserve</th>\n",
       "      <th>Number of Earths required</th>\n",
       "      <th>Number of Countries required</th>\n",
       "    </tr>\n",
       "  </thead>\n",
       "  <tbody>\n",
       "    <tr>\n",
       "      <th>1</th>\n",
       "      <td>Albania</td>\n",
       "      <td>Other Europe</td>\n",
       "      <td>71.6</td>\n",
       "      <td>76</td>\n",
       "      <td>0.8</td>\n",
       "      <td>14889</td>\n",
       "      <td>UM</td>\n",
       "      <td>2.9</td>\n",
       "      <td>0.8</td>\n",
       "      <td>0.2</td>\n",
       "      <td>...</td>\n",
       "      <td>2.1</td>\n",
       "      <td>0.6</td>\n",
       "      <td>0.2</td>\n",
       "      <td>0.223326</td>\n",
       "      <td>0.081392</td>\n",
       "      <td>0.073006</td>\n",
       "      <td>1.176752</td>\n",
       "      <td>-0.894486</td>\n",
       "      <td>1.371485</td>\n",
       "      <td>1.760131</td>\n",
       "    </tr>\n",
       "    <tr>\n",
       "      <th>2</th>\n",
       "      <td>Algeria</td>\n",
       "      <td>Africa</td>\n",
       "      <td>71.5</td>\n",
       "      <td>76</td>\n",
       "      <td>0.75</td>\n",
       "      <td>11137</td>\n",
       "      <td>UM</td>\n",
       "      <td>45.4</td>\n",
       "      <td>0.7</td>\n",
       "      <td>0.2</td>\n",
       "      <td>...</td>\n",
       "      <td>2.2</td>\n",
       "      <td>0.4</td>\n",
       "      <td>0.2</td>\n",
       "      <td>0.023912</td>\n",
       "      <td>0.007179</td>\n",
       "      <td>0.037775</td>\n",
       "      <td>0.663375</td>\n",
       "      <td>-1.559593</td>\n",
       "      <td>1.471955</td>\n",
       "      <td>3.350998</td>\n",
       "    </tr>\n",
       "    <tr>\n",
       "      <th>3</th>\n",
       "      <td>Angola</td>\n",
       "      <td>Africa</td>\n",
       "      <td>50.9</td>\n",
       "      <td>62</td>\n",
       "      <td>0.59</td>\n",
       "      <td>6304</td>\n",
       "      <td>LM</td>\n",
       "      <td>35</td>\n",
       "      <td>0.2</td>\n",
       "      <td>0.1</td>\n",
       "      <td>...</td>\n",
       "      <td>0.9</td>\n",
       "      <td>0.2</td>\n",
       "      <td>0.8</td>\n",
       "      <td>0.416888</td>\n",
       "      <td>0.153499</td>\n",
       "      <td>0.061360</td>\n",
       "      <td>1.588191</td>\n",
       "      <td>0.730346</td>\n",
       "      <td>0.568029</td>\n",
       "      <td>0.540140</td>\n",
       "    </tr>\n",
       "    <tr>\n",
       "      <th>4</th>\n",
       "      <td>Antigua and Barbuda</td>\n",
       "      <td>Central America/Caribbean</td>\n",
       "      <td>NaN</td>\n",
       "      <td>78</td>\n",
       "      <td>0.79</td>\n",
       "      <td>18749</td>\n",
       "      <td>HI</td>\n",
       "      <td>0.1</td>\n",
       "      <td>NaN</td>\n",
       "      <td>NaN</td>\n",
       "      <td>...</td>\n",
       "      <td>2.9</td>\n",
       "      <td>NaN</td>\n",
       "      <td>NaN</td>\n",
       "      <td>NaN</td>\n",
       "      <td>NaN</td>\n",
       "      <td>NaN</td>\n",
       "      <td>0.917277</td>\n",
       "      <td>-2.019458</td>\n",
       "      <td>1.944580</td>\n",
       "      <td>3.201578</td>\n",
       "    </tr>\n",
       "    <tr>\n",
       "      <th>5</th>\n",
       "      <td>Argentina</td>\n",
       "      <td>South America</td>\n",
       "      <td>72.8</td>\n",
       "      <td>75</td>\n",
       "      <td>0.84</td>\n",
       "      <td>22117</td>\n",
       "      <td>UM</td>\n",
       "      <td>46</td>\n",
       "      <td>0.9</td>\n",
       "      <td>0.5</td>\n",
       "      <td>...</td>\n",
       "      <td>3.2</td>\n",
       "      <td>1.8</td>\n",
       "      <td>1.2</td>\n",
       "      <td>0.591673</td>\n",
       "      <td>1.527615</td>\n",
       "      <td>0.083517</td>\n",
       "      <td>5.231663</td>\n",
       "      <td>2.011045</td>\n",
       "      <td>2.132556</td>\n",
       "      <td>0.615601</td>\n",
       "    </tr>\n",
       "  </tbody>\n",
       "</table>\n",
       "<p>5 rows × 24 columns</p>\n",
       "</div>"
      ],
      "text/plain": [
       "               Country                     Region  SDGi Life Exectancy   HDI  \\\n",
       "1              Albania               Other Europe  71.6             76   0.8   \n",
       "2              Algeria                     Africa  71.5             76  0.75   \n",
       "3               Angola                     Africa  50.9             62  0.59   \n",
       "4  Antigua and Barbuda  Central America/Caribbean   NaN             78  0.79   \n",
       "5            Argentina              South America  72.8             75  0.84   \n",
       "\n",
       "   Per Capita GDP Income Group Population (millions)  Cropland Footprint  \\\n",
       "1           14889           UM                   2.9                 0.8   \n",
       "2           11137           UM                  45.4                 0.7   \n",
       "3            6304           LM                    35                 0.2   \n",
       "4           18749           HI                   0.1                 NaN   \n",
       "5           22117           UM                    46                 0.9   \n",
       "\n",
       "   Grazing Footprint  ...  Total Ecological Footprint (Consumption)  Cropland  \\\n",
       "1                0.2  ...                                       2.1       0.6   \n",
       "2                0.2  ...                                       2.2       0.4   \n",
       "3                0.1  ...                                       0.9       0.2   \n",
       "4                NaN  ...                                       2.9       NaN   \n",
       "5                0.5  ...                                       3.2       1.8   \n",
       "\n",
       "   Grazing land  Forest land  Fishing ground  Built up land.1  \\\n",
       "1           0.2     0.223326        0.081392         0.073006   \n",
       "2           0.2     0.023912        0.007179         0.037775   \n",
       "3           0.8     0.416888        0.153499         0.061360   \n",
       "4           NaN          NaN             NaN              NaN   \n",
       "5           1.2     0.591673        1.527615         0.083517   \n",
       "\n",
       "   Total biocapacity   Ecological (Deficit) or Reserve  \\\n",
       "1            1.176752                        -0.894486   \n",
       "2            0.663375                        -1.559593   \n",
       "3            1.588191                         0.730346   \n",
       "4            0.917277                        -2.019458   \n",
       "5            5.231663                         2.011045   \n",
       "\n",
       "   Number of Earths required  Number of Countries required  \n",
       "1                   1.371485                      1.760131  \n",
       "2                   1.471955                      3.350998  \n",
       "3                   0.568029                      0.540140  \n",
       "4                   1.944580                      3.201578  \n",
       "5                   2.132556                      0.615601  \n",
       "\n",
       "[5 rows x 24 columns]"
      ]
     },
     "execution_count": 11,
     "metadata": {},
     "output_type": "execute_result"
    }
   ],
   "source": [
    "cleaned_df = cleaned_df.replace(' ', np.nan)\n",
    "cleaned_df = cleaned_df[cleaned_df['Population (millions)'].notna()]\n",
    "\n",
    "cleaned_df.head()"
   ]
  },
  {
   "cell_type": "code",
   "execution_count": 12,
   "id": "2747347e-ff35-4ef3-982e-48939ed88faf",
   "metadata": {},
   "outputs": [
    {
     "name": "stdout",
     "output_type": "stream",
     "text": [
      "<class 'pandas.core.frame.DataFrame'>\n",
      "Index: 163 entries, 1 to 179\n",
      "Data columns (total 24 columns):\n",
      " #   Column                                    Non-Null Count  Dtype  \n",
      "---  ------                                    --------------  -----  \n",
      " 0   Country                                   163 non-null    object \n",
      " 1   Region                                    163 non-null    object \n",
      " 2   SDGi                                      149 non-null    object \n",
      " 3   Life Exectancy                            163 non-null    object \n",
      " 4   HDI                                       162 non-null    object \n",
      " 5   Per Capita GDP                            163 non-null    int64  \n",
      " 6   Income Group                              163 non-null    object \n",
      " 7   Population (millions)                     163 non-null    float64\n",
      " 8   Cropland Footprint                        140 non-null    float64\n",
      " 9   Grazing Footprint                         140 non-null    float64\n",
      " 10  Forest Product Footprint                  140 non-null    float64\n",
      " 11  Carbon Footprint                          140 non-null    float64\n",
      " 12  Fish Footprint                            140 non-null    float64\n",
      " 13  Built up land                             140 non-null    float64\n",
      " 14  Total Ecological Footprint (Consumption)  163 non-null    float64\n",
      " 15  Cropland                                  140 non-null    float64\n",
      " 16  Grazing land                              140 non-null    float64\n",
      " 17  Forest land                               140 non-null    float64\n",
      " 18  Fishing ground                            140 non-null    float64\n",
      " 19  Built up land.1                           140 non-null    float64\n",
      " 20  Total biocapacity                         163 non-null    float64\n",
      " 21  Ecological (Deficit) or Reserve           163 non-null    float64\n",
      " 22  Number of Earths required                 163 non-null    float64\n",
      " 23  Number of Countries required              163 non-null    float64\n",
      "dtypes: float64(17), int64(1), object(6)\n",
      "memory usage: 31.8+ KB\n"
     ]
    },
    {
     "data": {
      "text/html": [
       "<div>\n",
       "<style scoped>\n",
       "    .dataframe tbody tr th:only-of-type {\n",
       "        vertical-align: middle;\n",
       "    }\n",
       "\n",
       "    .dataframe tbody tr th {\n",
       "        vertical-align: top;\n",
       "    }\n",
       "\n",
       "    .dataframe thead th {\n",
       "        text-align: right;\n",
       "    }\n",
       "</style>\n",
       "<table border=\"1\" class=\"dataframe\">\n",
       "  <thead>\n",
       "    <tr style=\"text-align: right;\">\n",
       "      <th></th>\n",
       "      <th>Country</th>\n",
       "      <th>Region</th>\n",
       "      <th>SDGi</th>\n",
       "      <th>Life Exectancy</th>\n",
       "      <th>HDI</th>\n",
       "      <th>Per Capita GDP</th>\n",
       "      <th>Income Group</th>\n",
       "      <th>Population (millions)</th>\n",
       "      <th>Cropland Footprint</th>\n",
       "      <th>Grazing Footprint</th>\n",
       "      <th>...</th>\n",
       "      <th>Total Ecological Footprint (Consumption)</th>\n",
       "      <th>Cropland</th>\n",
       "      <th>Grazing land</th>\n",
       "      <th>Forest land</th>\n",
       "      <th>Fishing ground</th>\n",
       "      <th>Built up land.1</th>\n",
       "      <th>Total biocapacity</th>\n",
       "      <th>Ecological (Deficit) or Reserve</th>\n",
       "      <th>Number of Earths required</th>\n",
       "      <th>Number of Countries required</th>\n",
       "    </tr>\n",
       "  </thead>\n",
       "  <tbody>\n",
       "    <tr>\n",
       "      <th>1</th>\n",
       "      <td>Albania</td>\n",
       "      <td>Other Europe</td>\n",
       "      <td>71.6</td>\n",
       "      <td>76</td>\n",
       "      <td>0.8</td>\n",
       "      <td>14889</td>\n",
       "      <td>UM</td>\n",
       "      <td>2.9</td>\n",
       "      <td>0.8</td>\n",
       "      <td>0.2</td>\n",
       "      <td>...</td>\n",
       "      <td>2.1</td>\n",
       "      <td>0.6</td>\n",
       "      <td>0.2</td>\n",
       "      <td>0.223326</td>\n",
       "      <td>0.081392</td>\n",
       "      <td>0.073006</td>\n",
       "      <td>1.176752</td>\n",
       "      <td>-0.894486</td>\n",
       "      <td>1.371485</td>\n",
       "      <td>1.760131</td>\n",
       "    </tr>\n",
       "    <tr>\n",
       "      <th>2</th>\n",
       "      <td>Algeria</td>\n",
       "      <td>Africa</td>\n",
       "      <td>71.5</td>\n",
       "      <td>76</td>\n",
       "      <td>0.75</td>\n",
       "      <td>11137</td>\n",
       "      <td>UM</td>\n",
       "      <td>45.4</td>\n",
       "      <td>0.7</td>\n",
       "      <td>0.2</td>\n",
       "      <td>...</td>\n",
       "      <td>2.2</td>\n",
       "      <td>0.4</td>\n",
       "      <td>0.2</td>\n",
       "      <td>0.023912</td>\n",
       "      <td>0.007179</td>\n",
       "      <td>0.037775</td>\n",
       "      <td>0.663375</td>\n",
       "      <td>-1.559593</td>\n",
       "      <td>1.471955</td>\n",
       "      <td>3.350998</td>\n",
       "    </tr>\n",
       "    <tr>\n",
       "      <th>3</th>\n",
       "      <td>Angola</td>\n",
       "      <td>Africa</td>\n",
       "      <td>50.9</td>\n",
       "      <td>62</td>\n",
       "      <td>0.59</td>\n",
       "      <td>6304</td>\n",
       "      <td>LM</td>\n",
       "      <td>35.0</td>\n",
       "      <td>0.2</td>\n",
       "      <td>0.1</td>\n",
       "      <td>...</td>\n",
       "      <td>0.9</td>\n",
       "      <td>0.2</td>\n",
       "      <td>0.8</td>\n",
       "      <td>0.416888</td>\n",
       "      <td>0.153499</td>\n",
       "      <td>0.061360</td>\n",
       "      <td>1.588191</td>\n",
       "      <td>0.730346</td>\n",
       "      <td>0.568029</td>\n",
       "      <td>0.540140</td>\n",
       "    </tr>\n",
       "    <tr>\n",
       "      <th>4</th>\n",
       "      <td>Antigua and Barbuda</td>\n",
       "      <td>Central America/Caribbean</td>\n",
       "      <td>NaN</td>\n",
       "      <td>78</td>\n",
       "      <td>0.79</td>\n",
       "      <td>18749</td>\n",
       "      <td>HI</td>\n",
       "      <td>0.1</td>\n",
       "      <td>NaN</td>\n",
       "      <td>NaN</td>\n",
       "      <td>...</td>\n",
       "      <td>2.9</td>\n",
       "      <td>NaN</td>\n",
       "      <td>NaN</td>\n",
       "      <td>NaN</td>\n",
       "      <td>NaN</td>\n",
       "      <td>NaN</td>\n",
       "      <td>0.917277</td>\n",
       "      <td>-2.019458</td>\n",
       "      <td>1.944580</td>\n",
       "      <td>3.201578</td>\n",
       "    </tr>\n",
       "    <tr>\n",
       "      <th>5</th>\n",
       "      <td>Argentina</td>\n",
       "      <td>South America</td>\n",
       "      <td>72.8</td>\n",
       "      <td>75</td>\n",
       "      <td>0.84</td>\n",
       "      <td>22117</td>\n",
       "      <td>UM</td>\n",
       "      <td>46.0</td>\n",
       "      <td>0.9</td>\n",
       "      <td>0.5</td>\n",
       "      <td>...</td>\n",
       "      <td>3.2</td>\n",
       "      <td>1.8</td>\n",
       "      <td>1.2</td>\n",
       "      <td>0.591673</td>\n",
       "      <td>1.527615</td>\n",
       "      <td>0.083517</td>\n",
       "      <td>5.231663</td>\n",
       "      <td>2.011045</td>\n",
       "      <td>2.132556</td>\n",
       "      <td>0.615601</td>\n",
       "    </tr>\n",
       "  </tbody>\n",
       "</table>\n",
       "<p>5 rows × 24 columns</p>\n",
       "</div>"
      ],
      "text/plain": [
       "               Country                     Region  SDGi Life Exectancy   HDI  \\\n",
       "1              Albania               Other Europe  71.6             76   0.8   \n",
       "2              Algeria                     Africa  71.5             76  0.75   \n",
       "3               Angola                     Africa  50.9             62  0.59   \n",
       "4  Antigua and Barbuda  Central America/Caribbean   NaN             78  0.79   \n",
       "5            Argentina              South America  72.8             75  0.84   \n",
       "\n",
       "   Per Capita GDP Income Group  Population (millions)  Cropland Footprint  \\\n",
       "1           14889           UM                    2.9                 0.8   \n",
       "2           11137           UM                   45.4                 0.7   \n",
       "3            6304           LM                   35.0                 0.2   \n",
       "4           18749           HI                    0.1                 NaN   \n",
       "5           22117           UM                   46.0                 0.9   \n",
       "\n",
       "   Grazing Footprint  ...  Total Ecological Footprint (Consumption)  Cropland  \\\n",
       "1                0.2  ...                                       2.1       0.6   \n",
       "2                0.2  ...                                       2.2       0.4   \n",
       "3                0.1  ...                                       0.9       0.2   \n",
       "4                NaN  ...                                       2.9       NaN   \n",
       "5                0.5  ...                                       3.2       1.8   \n",
       "\n",
       "   Grazing land  Forest land  Fishing ground  Built up land.1  \\\n",
       "1           0.2     0.223326        0.081392         0.073006   \n",
       "2           0.2     0.023912        0.007179         0.037775   \n",
       "3           0.8     0.416888        0.153499         0.061360   \n",
       "4           NaN          NaN             NaN              NaN   \n",
       "5           1.2     0.591673        1.527615         0.083517   \n",
       "\n",
       "   Total biocapacity   Ecological (Deficit) or Reserve  \\\n",
       "1            1.176752                        -0.894486   \n",
       "2            0.663375                        -1.559593   \n",
       "3            1.588191                         0.730346   \n",
       "4            0.917277                        -2.019458   \n",
       "5            5.231663                         2.011045   \n",
       "\n",
       "   Number of Earths required  Number of Countries required  \n",
       "1                   1.371485                      1.760131  \n",
       "2                   1.471955                      3.350998  \n",
       "3                   0.568029                      0.540140  \n",
       "4                   1.944580                      3.201578  \n",
       "5                   2.132556                      0.615601  \n",
       "\n",
       "[5 rows x 24 columns]"
      ]
     },
     "execution_count": 12,
     "metadata": {},
     "output_type": "execute_result"
    }
   ],
   "source": [
    "cleaned_df['Population (millions)'] = cleaned_df['Population (millions)'].str.replace(',', '').astype(float)\n",
    "cleaned_df.info()\n",
    "cleaned_df.head()"
   ]
  },
  {
   "cell_type": "markdown",
   "id": "4f1edaaf-4f31-4720-b560-78fc3fc59bd0",
   "metadata": {},
   "source": [
    "Next is **Region**, under which each **Country** is grouped into one of the regions below. Unlike population and per capita GDP, region is categorical data. Thus, it has a specific set of values it can have, and must be double-checked for typos and incorrect encoding. As such, the `.unique()` method is used to check all unique values in the column. From the output, it is clear that there are no typos or instances of incorrect encoding in the region column. Thus, no further data cleaning is necessary."
   ]
  },
  {
   "cell_type": "code",
   "execution_count": 13,
   "id": "cda6d4dc-6233-428b-9e23-6c9cdd082f2b",
   "metadata": {},
   "outputs": [
    {
     "data": {
      "text/plain": [
       "array(['Other Europe', 'Africa', 'Central America/Caribbean',\n",
       "       'South America', 'Middle East/Central Asia', 'Asia-Pacific',\n",
       "       'EU-27', 'North America'], dtype=object)"
      ]
     },
     "execution_count": 13,
     "metadata": {},
     "output_type": "execute_result"
    }
   ],
   "source": [
    "cleaned_df['Region'].unique()"
   ]
  },
  {
   "cell_type": "markdown",
   "id": "fe2627d5-4ac4-4409-a5ad-9fd4b83afbab",
   "metadata": {},
   "source": [
    "**Income Group** is similar to region in that it is categorical data. A similar inspection process to what was done for region is followed, and like region, there were no instanes of incorrect encoding or typos. Thus, no further data cleaning is necessary."
   ]
  },
  {
   "cell_type": "code",
   "execution_count": 14,
   "id": "9070c4ee-1e71-4f9b-8dae-c0d908ee5ece",
   "metadata": {},
   "outputs": [
    {
     "data": {
      "text/plain": [
       "array(['UM', 'LM', 'HI', 'LI'], dtype=object)"
      ]
     },
     "execution_count": 14,
     "metadata": {},
     "output_type": "execute_result"
    }
   ],
   "source": [
    "cleaned_df['Income Group'].unique()"
   ]
  },
  {
   "cell_type": "code",
   "execution_count": 15,
   "id": "6e7d8090-5b95-48b2-9f64-79a5d68ad568",
   "metadata": {},
   "outputs": [
    {
     "name": "stdout",
     "output_type": "stream",
     "text": [
      "<class 'pandas.core.series.Series'>\n",
      "Index: 163 entries, 1 to 179\n",
      "Series name: Total Ecological Footprint (Consumption)\n",
      "Non-Null Count  Dtype  \n",
      "--------------  -----  \n",
      "163 non-null    float64\n",
      "dtypes: float64(1)\n",
      "memory usage: 2.5 KB\n"
     ]
    },
    {
     "data": {
      "text/plain": [
       "1      2.1\n",
       "2      2.2\n",
       "3      0.9\n",
       "4      2.9\n",
       "5      3.2\n",
       "      ... \n",
       "173    7.5\n",
       "174    2.2\n",
       "176    1.8\n",
       "178    2.4\n",
       "179    0.6\n",
       "Name: Total Ecological Footprint (Consumption), Length: 163, dtype: float64"
      ]
     },
     "execution_count": 15,
     "metadata": {},
     "output_type": "execute_result"
    }
   ],
   "source": [
    "total_ecological_footprint = cleaned_df['Total Ecological Footprint (Consumption)']\n",
    "total_ecological_footprint.info()\n",
    "total_ecological_footprint"
   ]
  },
  {
   "cell_type": "markdown",
   "id": "5dae4f10",
   "metadata": {},
   "source": [
    "Checking for NaN values in the total biocapacity column results in 0 NaN values found, and the data type is correctly reported as a float. As such, there is no need for futher cleaning of this variable."
   ]
  },
  {
   "cell_type": "code",
   "execution_count": 16,
   "id": "e0bedfaf",
   "metadata": {},
   "outputs": [
    {
     "name": "stdout",
     "output_type": "stream",
     "text": [
      "0 NaN values found.\n",
      "<class 'pandas.core.series.Series'>\n",
      "Index: 163 entries, 1 to 179\n",
      "Series name: Total biocapacity \n",
      "Non-Null Count  Dtype  \n",
      "--------------  -----  \n",
      "163 non-null    float64\n",
      "dtypes: float64(1)\n",
      "memory usage: 2.5 KB\n"
     ]
    }
   ],
   "source": [
    "biocapacity = cleaned_df['Total biocapacity ']\n",
    "print(biocapacity.isnull().sum(), 'NaN values found.')\n",
    "biocapacity.info()"
   ]
  },
  {
   "cell_type": "markdown",
   "id": "16c08b36",
   "metadata": {},
   "source": [
    "Similarly, checking for NaN values in the ecological deficit/reserve column results in 0 NaN values found, and the data type is also correctly reported as a float. As such, there is no need for further cleaning of this variable."
   ]
  },
  {
   "cell_type": "code",
   "execution_count": 17,
   "id": "559943e2",
   "metadata": {},
   "outputs": [
    {
     "name": "stdout",
     "output_type": "stream",
     "text": [
      "0 NaN values found.\n",
      "<class 'pandas.core.series.Series'>\n",
      "Index: 163 entries, 1 to 179\n",
      "Series name: Ecological (Deficit) or Reserve\n",
      "Non-Null Count  Dtype  \n",
      "--------------  -----  \n",
      "163 non-null    float64\n",
      "dtypes: float64(1)\n",
      "memory usage: 2.5 KB\n"
     ]
    }
   ],
   "source": [
    "eco_deficit_reserve = cleaned_df['Ecological (Deficit) or Reserve']\n",
    "print(eco_deficit_reserve.isnull().sum(), 'NaN values found.')\n",
    "eco_deficit_reserve.info()"
   ]
  },
  {
   "cell_type": "markdown",
   "id": "da22b3ad-fcc7-4639-b08f-66e1aeac52d1",
   "metadata": {},
   "source": [
    "# III. Exploratory Data Analysis"
   ]
  },
  {
   "cell_type": "markdown",
   "id": "f1c56b1d-3bf0-441e-996c-b5d15af9ad06",
   "metadata": {},
   "source": [
    "The following section consists of various exploratory questions regarding the data that helps to understand the data better."
   ]
  },
  {
   "cell_type": "markdown",
   "id": "54854095-1d75-4ef0-83c5-0842c07d3e70",
   "metadata": {},
   "source": [
    "## 1. Is there a correlation between Per Capita GDP and Total Ecological Footprint?"
   ]
  },
  {
   "cell_type": "markdown",
   "id": "1567c765-1708-48fe-89dd-eec02211a73b",
   "metadata": {},
   "source": [
    "A new table was created with the per capita GDP and the total ecological footprint as columns. Then, the two categories were visualized on a scatter plot with Per Capita GDP as the x-axis and Total Ecological Footprint as the y-axis."
   ]
  },
  {
   "cell_type": "code",
   "execution_count": 18,
   "id": "947d0e78-a542-4537-a6a6-9e57dd5e012d",
   "metadata": {},
   "outputs": [
    {
     "data": {
      "image/png": "[encoded data removed]",
      "text/plain": [
       "<Figure size 1500x1000 with 1 Axes>"
      ]
     },
     "metadata": {},
     "output_type": "display_data"
    }
   ],
   "source": [
    "pcgdp_eco_footprint = cleaned_df[['Per Capita GDP', 'Total Ecological Footprint (Consumption)']]\n",
    "pcgdp_eco_footprint.plot.scatter(\n",
    "    x='Per Capita GDP', \n",
    "    y='Total Ecological Footprint (Consumption)', \n",
    "    alpha=0.5, \n",
    "    color='green',\n",
    "    figsize=(15, 10)\n",
    ")\n",
    "\n",
    "plt.title(\"Correlation between Per Capita GDP and Total Ecological Footprint for consumption\")\n",
    "plt.show()"
   ]
  },
  {
   "cell_type": "markdown",
   "id": "a0efd828",
   "metadata": {},
   "source": [
    "To better express the findings, a correlation must be done. However, Pearson correlation is designed to work with normally distributed data, so to check if the data above fits this, a histogram was used to check if the data visually matches that of a bell shape. Neither variable fits this description, so a Spearman correlation must be used."
   ]
  },
  {
   "cell_type": "code",
   "execution_count": 19,
   "id": "09d321f7",
   "metadata": {},
   "outputs": [
    {
     "data": {
      "image/png": "[encoded data removed]",
      "text/plain": [
       "<Figure size 640x480 with 1 Axes>"
      ]
     },
     "metadata": {},
     "output_type": "display_data"
    }
   ],
   "source": [
    "plt.hist(pcgdp_eco_footprint['Per Capita GDP'])\n",
    "plt.show()"
   ]
  },
  {
   "cell_type": "code",
   "execution_count": 20,
   "id": "60e3aa48",
   "metadata": {},
   "outputs": [
    {
     "data": {
      "image/png": "[encoded data removed]",
      "text/plain": [
       "<Figure size 640x480 with 1 Axes>"
      ]
     },
     "metadata": {},
     "output_type": "display_data"
    }
   ],
   "source": [
    "plt.hist(pcgdp_eco_footprint['Total Ecological Footprint (Consumption)'])\n",
    "plt.show()"
   ]
  },
  {
   "cell_type": "markdown",
   "id": "c00b2986-57cb-4317-9a94-8f785e39515a",
   "metadata": {},
   "source": [
    "To better quantify the correlation between the two variables, a Spearman correlation matrix was used, resulting in a 0.87 correlation coefficient, which indicates a strong positive correlation between the two variables. Spearman was used instead of the default Pearson correlation because the data is not normally distributed."
   ]
  },
  {
   "cell_type": "code",
   "execution_count": 21,
   "id": "a12664af-212b-4e95-8527-1cead1dd868f",
   "metadata": {},
   "outputs": [
    {
     "data": {
      "text/html": [
       "<div>\n",
       "<style scoped>\n",
       "    .dataframe tbody tr th:only-of-type {\n",
       "        vertical-align: middle;\n",
       "    }\n",
       "\n",
       "    .dataframe tbody tr th {\n",
       "        vertical-align: top;\n",
       "    }\n",
       "\n",
       "    .dataframe thead th {\n",
       "        text-align: right;\n",
       "    }\n",
       "</style>\n",
       "<table border=\"1\" class=\"dataframe\">\n",
       "  <thead>\n",
       "    <tr style=\"text-align: right;\">\n",
       "      <th></th>\n",
       "      <th>Per Capita GDP</th>\n",
       "      <th>Total Ecological Footprint (Consumption)</th>\n",
       "    </tr>\n",
       "  </thead>\n",
       "  <tbody>\n",
       "    <tr>\n",
       "      <th>Per Capita GDP</th>\n",
       "      <td>1.000000</td>\n",
       "      <td>0.874979</td>\n",
       "    </tr>\n",
       "    <tr>\n",
       "      <th>Total Ecological Footprint (Consumption)</th>\n",
       "      <td>0.874979</td>\n",
       "      <td>1.000000</td>\n",
       "    </tr>\n",
       "  </tbody>\n",
       "</table>\n",
       "</div>"
      ],
      "text/plain": [
       "                                          Per Capita GDP  \\\n",
       "Per Capita GDP                                  1.000000   \n",
       "Total Ecological Footprint (Consumption)        0.874979   \n",
       "\n",
       "                                          Total Ecological Footprint (Consumption)  \n",
       "Per Capita GDP                                                            0.874979  \n",
       "Total Ecological Footprint (Consumption)                                  1.000000  "
      ]
     },
     "execution_count": 21,
     "metadata": {},
     "output_type": "execute_result"
    }
   ],
   "source": [
    "pcgdp_eco_footprint.corr(method = 'spearman')"
   ]
  },
  {
   "cell_type": "markdown",
   "id": "20e5928d-ef46-4dc1-89ef-389dfca7f47c",
   "metadata": {},
   "source": [
    "## 2. Is there a correlation between a country's population and Total Ecological Footprint for consumption?"
   ]
  },
  {
   "cell_type": "markdown",
   "id": "db05ba9a-c629-4185-b533-47681b397559",
   "metadata": {},
   "source": [
    "A new table was created with population (measured in millions) and total ecological footprint as columns. Then, the two categories were visualized on a scatter plot with Population as the x-axis and total ecological footprint as the y-axis."
   ]
  },
  {
   "cell_type": "code",
   "execution_count": 22,
   "id": "75e01091-d9ec-4561-b5e4-df93bf2938ea",
   "metadata": {},
   "outputs": [
    {
     "data": {
      "image/png": "[encoded data removed]",
      "text/plain": [
       "<Figure size 1500x1000 with 1 Axes>"
      ]
     },
     "metadata": {},
     "output_type": "display_data"
    }
   ],
   "source": [
    "population_eco_footprint = cleaned_df[['Population (millions)', 'Total Ecological Footprint (Consumption)']].copy()\n",
    "population_eco_footprint.plot.scatter(\n",
    "    x='Population (millions)', \n",
    "    y='Total Ecological Footprint (Consumption)', \n",
    "    alpha=0.5,\n",
    "    figsize=(15, 10)\n",
    ")\n",
    "\n",
    "plt.title(\"Correlation between country population and Total Ecological Footprint for consumption\")\n",
    "plt.show()"
   ]
  },
  {
   "cell_type": "markdown",
   "id": "943b3add",
   "metadata": {},
   "source": [
    "Like in the previous question, the data must be checked to see if it is normally distributed or not to see which correlation should be used."
   ]
  },
  {
   "cell_type": "code",
   "execution_count": 23,
   "id": "40f04951",
   "metadata": {},
   "outputs": [
    {
     "data": {
      "image/png": "[encoded data removed]",
      "text/plain": [
       "<Figure size 640x480 with 1 Axes>"
      ]
     },
     "metadata": {},
     "output_type": "display_data"
    }
   ],
   "source": [
    "plt.hist(population_eco_footprint['Population (millions)'], bins=20)\n",
    "plt.show()"
   ]
  },
  {
   "cell_type": "markdown",
   "id": "2250d7b7",
   "metadata": {},
   "source": [
    "Total ecological footprint was checked earlier and was found to not be normally distributed. Population is the same. Thus, a Spearman correlation should be used."
   ]
  },
  {
   "cell_type": "markdown",
   "id": "cb05c003-3430-402c-85c8-de68c4282930",
   "metadata": {},
   "source": [
    "To better quantify the relationship between the two variables, a Spearman correlation matrix was used, resulting in a -0.20 correlation coefficient, suggesting a small negative correlation between the two variables."
   ]
  },
  {
   "cell_type": "code",
   "execution_count": 24,
   "id": "61fb9e9c-057f-41e4-8375-390bb68c05c5",
   "metadata": {},
   "outputs": [
    {
     "data": {
      "text/html": [
       "<div>\n",
       "<style scoped>\n",
       "    .dataframe tbody tr th:only-of-type {\n",
       "        vertical-align: middle;\n",
       "    }\n",
       "\n",
       "    .dataframe tbody tr th {\n",
       "        vertical-align: top;\n",
       "    }\n",
       "\n",
       "    .dataframe thead th {\n",
       "        text-align: right;\n",
       "    }\n",
       "</style>\n",
       "<table border=\"1\" class=\"dataframe\">\n",
       "  <thead>\n",
       "    <tr style=\"text-align: right;\">\n",
       "      <th></th>\n",
       "      <th>Population (millions)</th>\n",
       "      <th>Total Ecological Footprint (Consumption)</th>\n",
       "    </tr>\n",
       "  </thead>\n",
       "  <tbody>\n",
       "    <tr>\n",
       "      <th>Population (millions)</th>\n",
       "      <td>1.000000</td>\n",
       "      <td>-0.204379</td>\n",
       "    </tr>\n",
       "    <tr>\n",
       "      <th>Total Ecological Footprint (Consumption)</th>\n",
       "      <td>-0.204379</td>\n",
       "      <td>1.000000</td>\n",
       "    </tr>\n",
       "  </tbody>\n",
       "</table>\n",
       "</div>"
      ],
      "text/plain": [
       "                                          Population (millions)  \\\n",
       "Population (millions)                                  1.000000   \n",
       "Total Ecological Footprint (Consumption)              -0.204379   \n",
       "\n",
       "                                          Total Ecological Footprint (Consumption)  \n",
       "Population (millions)                                                    -0.204379  \n",
       "Total Ecological Footprint (Consumption)                                  1.000000  "
      ]
     },
     "execution_count": 24,
     "metadata": {},
     "output_type": "execute_result"
    }
   ],
   "source": [
    "population_eco_footprint.corr(method = 'spearman')"
   ]
  },
  {
   "cell_type": "markdown",
   "id": "4945cfe7-2847-4729-8627-1fb9593fe289",
   "metadata": {},
   "source": [
    "While intuitively, one might think that the greater a country's population, the greater its ecological footprint for consumption would be, the correlation matrix and the graph above suggest a much smaller correlation between the population of a country and its total ecological footprint for consumption."
   ]
  },
  {
   "cell_type": "markdown",
   "id": "de66738a-47e2-40b9-a6e2-7003732ecf21",
   "metadata": {},
   "source": [
    "## 3. Which region has the highest median total ecological footprint for consumption?"
   ]
  },
  {
   "cell_type": "markdown",
   "id": "516ecb60-8c4e-4b2f-b3d5-38cfdcbd223d",
   "metadata": {},
   "source": [
    "A new table was created where all countries were grouped by their region. Then, the aggregate median of the countries' total ecological footprint were collected. Then, this data was visualized in a bar plot where the x-axis contains the different regions and the y-axis represents the median total ecological footprint. The median was chosen instead of the mean as it is less susceptible to outliers."
   ]
  },
  {
   "cell_type": "code",
   "execution_count": 25,
   "id": "28e3bb0d-e8f7-4b7a-8f3c-84b0c95e648d",
   "metadata": {},
   "outputs": [
    {
     "data": {
      "text/html": [
       "<div>\n",
       "<style scoped>\n",
       "    .dataframe tbody tr th:only-of-type {\n",
       "        vertical-align: middle;\n",
       "    }\n",
       "\n",
       "    .dataframe tbody tr th {\n",
       "        vertical-align: top;\n",
       "    }\n",
       "\n",
       "    .dataframe thead tr th {\n",
       "        text-align: left;\n",
       "    }\n",
       "</style>\n",
       "<table border=\"1\" class=\"dataframe\">\n",
       "  <thead>\n",
       "    <tr>\n",
       "      <th></th>\n",
       "      <th>Region</th>\n",
       "      <th>Total Ecological Footprint (Consumption)</th>\n",
       "    </tr>\n",
       "    <tr>\n",
       "      <th></th>\n",
       "      <th></th>\n",
       "      <th>median</th>\n",
       "    </tr>\n",
       "  </thead>\n",
       "  <tbody>\n",
       "    <tr>\n",
       "      <th>0</th>\n",
       "      <td>Africa</td>\n",
       "      <td>1.15</td>\n",
       "    </tr>\n",
       "    <tr>\n",
       "      <th>1</th>\n",
       "      <td>Asia-Pacific</td>\n",
       "      <td>2.35</td>\n",
       "    </tr>\n",
       "    <tr>\n",
       "      <th>2</th>\n",
       "      <td>Central America/Caribbean</td>\n",
       "      <td>1.90</td>\n",
       "    </tr>\n",
       "    <tr>\n",
       "      <th>3</th>\n",
       "      <td>EU-27</td>\n",
       "      <td>4.55</td>\n",
       "    </tr>\n",
       "    <tr>\n",
       "      <th>4</th>\n",
       "      <td>Middle East/Central Asia</td>\n",
       "      <td>3.40</td>\n",
       "    </tr>\n",
       "    <tr>\n",
       "      <th>5</th>\n",
       "      <td>North America</td>\n",
       "      <td>7.40</td>\n",
       "    </tr>\n",
       "    <tr>\n",
       "      <th>6</th>\n",
       "      <td>Other Europe</td>\n",
       "      <td>3.70</td>\n",
       "    </tr>\n",
       "    <tr>\n",
       "      <th>7</th>\n",
       "      <td>South America</td>\n",
       "      <td>2.80</td>\n",
       "    </tr>\n",
       "  </tbody>\n",
       "</table>\n",
       "</div>"
      ],
      "text/plain": [
       "                      Region Total Ecological Footprint (Consumption)\n",
       "                                                               median\n",
       "0                     Africa                                     1.15\n",
       "1               Asia-Pacific                                     2.35\n",
       "2  Central America/Caribbean                                     1.90\n",
       "3                      EU-27                                     4.55\n",
       "4   Middle East/Central Asia                                     3.40\n",
       "5              North America                                     7.40\n",
       "6               Other Europe                                     3.70\n",
       "7              South America                                     2.80"
      ]
     },
     "execution_count": 25,
     "metadata": {},
     "output_type": "execute_result"
    },
    {
     "data": {
      "image/png": "[encoded data removed]",
      "text/plain": [
       "<Figure size 1500x1000 with 1 Axes>"
      ]
     },
     "metadata": {},
     "output_type": "display_data"
    }
   ],
   "source": [
    "eco_footprint_per_region = cleaned_df.groupby('Region').agg(\n",
    "    {'Total Ecological Footprint (Consumption)': ['median']}\n",
    ")\n",
    "\n",
    "eco_footprint_per_region.reset_index(inplace=True)\n",
    "eco_footprint_per_region.plot.bar(\n",
    "    x='Region', \n",
    "    y=('Total Ecological Footprint (Consumption)', 'median'), \n",
    "    figsize=(15, 10), \n",
    "    color='green'\n",
    ")\n",
    "\n",
    "plt.title('Median total ecological footprint for consumption per region')\n",
    "plt.ylabel('Median total ecological footprint (global hectares per person)')\n",
    "plt.legend([\"Median Total Ecological Footprint (Consumption)\"])\n",
    "\n",
    "eco_footprint_per_region"
   ]
  },
  {
   "cell_type": "markdown",
   "id": "6c4c7d3d-b223-441d-b09a-f9b618100a36",
   "metadata": {},
   "source": [
    "The graph shows that the ecological footprint for consumption of North America has a median of 7.4 global hectares per person. Followed by the European Union with a median of 4.55 global hectares per person."
   ]
  },
  {
   "cell_type": "markdown",
   "id": "80315501-b126-4d27-b100-92f724271501",
   "metadata": {},
   "source": [
    "## 4. Which income group has the highest median Total Ecological Footprint for consumption?"
   ]
  },
  {
   "cell_type": "markdown",
   "id": "c06d84ce-087f-416f-b4f6-8413898be7a3",
   "metadata": {},
   "source": [
    "The `index` array allows for a custom ordering of bars in the bar graph. The 'Income Group' column is then set as a categorical variable that uses `index` to define the order of its categories. In this instace, it is order from the lowest income group (LI) to the highest (HI). The dataset abbreviates the income group names as follows:\n",
    "- LI: Low income\n",
    "- LM: Lower middle income\n",
    "- UM: Upper middle income\n",
    "- HI: High income\n",
    "\n",
    "Next, the data is grouped by the new categorical income group column, and aggregate median is collected. Lastly, the table is visualized as a bar graph using the income group as the x-axis and the aggregate median total ecological footprint as the y-axis."
   ]
  },
  {
   "cell_type": "code",
   "execution_count": 26,
   "id": "954c0051-5abe-4ff0-ad53-2fc4f3f84992",
   "metadata": {},
   "outputs": [
    {
     "data": {
      "text/html": [
       "<div>\n",
       "<style scoped>\n",
       "    .dataframe tbody tr th:only-of-type {\n",
       "        vertical-align: middle;\n",
       "    }\n",
       "\n",
       "    .dataframe tbody tr th {\n",
       "        vertical-align: top;\n",
       "    }\n",
       "\n",
       "    .dataframe thead tr th {\n",
       "        text-align: left;\n",
       "    }\n",
       "</style>\n",
       "<table border=\"1\" class=\"dataframe\">\n",
       "  <thead>\n",
       "    <tr>\n",
       "      <th></th>\n",
       "      <th>Income Group</th>\n",
       "      <th>Total Ecological Footprint (Consumption)</th>\n",
       "    </tr>\n",
       "    <tr>\n",
       "      <th></th>\n",
       "      <th></th>\n",
       "      <th>median</th>\n",
       "    </tr>\n",
       "  </thead>\n",
       "  <tbody>\n",
       "    <tr>\n",
       "      <th>0</th>\n",
       "      <td>LI</td>\n",
       "      <td>0.9</td>\n",
       "    </tr>\n",
       "    <tr>\n",
       "      <th>1</th>\n",
       "      <td>LM</td>\n",
       "      <td>1.7</td>\n",
       "    </tr>\n",
       "    <tr>\n",
       "      <th>2</th>\n",
       "      <td>UM</td>\n",
       "      <td>2.6</td>\n",
       "    </tr>\n",
       "    <tr>\n",
       "      <th>3</th>\n",
       "      <td>HI</td>\n",
       "      <td>5.4</td>\n",
       "    </tr>\n",
       "  </tbody>\n",
       "</table>\n",
       "</div>"
      ],
      "text/plain": [
       "  Income Group Total Ecological Footprint (Consumption)\n",
       "                                                 median\n",
       "0           LI                                      0.9\n",
       "1           LM                                      1.7\n",
       "2           UM                                      2.6\n",
       "3           HI                                      5.4"
      ]
     },
     "execution_count": 26,
     "metadata": {},
     "output_type": "execute_result"
    },
    {
     "data": {
      "image/png": "[encoded data removed]",
      "text/plain": [
       "<Figure size 1500x1000 with 1 Axes>"
      ]
     },
     "metadata": {},
     "output_type": "display_data"
    }
   ],
   "source": [
    "index = ['LI', 'LM', 'UM', 'HI']\n",
    "\n",
    "cleaned_df['Income Group'] = pd.Categorical(\n",
    "    cleaned_df['Income Group'], \n",
    "    categories=index, \n",
    "    ordered=True\n",
    ")\n",
    "\n",
    "income_grp_eco_footprint = cleaned_df.groupby('Income Group', observed=True).agg(\n",
    "    {'Total Ecological Footprint (Consumption)': ['median']}\n",
    ")\n",
    "\n",
    "income_grp_eco_footprint.reset_index(inplace=True)\n",
    "income_grp_eco_footprint.plot.bar(\n",
    "    x='Income Group', \n",
    "    y=('Total Ecological Footprint (Consumption)', 'median'), \n",
    "    color='orange', \n",
    "    figsize=(15, 10)\n",
    ")\n",
    "\n",
    "plt.title('Median total ecological footprint for consumption per income group')\n",
    "plt.ylabel('Median total ecological footprint (global hectares per person)')\n",
    "plt.legend([\"Median Total Ecological Footprint (Consumption)\"])\n",
    "\n",
    "income_grp_eco_footprint"
   ]
  },
  {
   "cell_type": "markdown",
   "id": "b62ab267-4b20-441b-8492-668538236b66",
   "metadata": {},
   "source": [
    "The bar graph indicates that the high income countries have the highest median total ecological footprint for consumption among the income groups. It can also be determined from the graph that low income countries has the least median total ecological footprint for consumption."
   ]
  },
  {
   "cell_type": "markdown",
   "id": "27ae6c97-0025-4aff-8dbe-0a6844657b05",
   "metadata": {},
   "source": [
    "## 5. How many countries are in each income group per region?"
   ]
  },
  {
   "cell_type": "markdown",
   "id": "28e3bb55-d00d-451b-a07f-76d73bd0f287",
   "metadata": {},
   "source": [
    "In order to determine which region has the most countries per income group, the researchers included a bar graph that indicates the number of countries in each income group per region."
   ]
  },
  {
   "cell_type": "code",
   "execution_count": 27,
   "id": "0295de56-3cf2-48b2-86d8-1705f68a2bb5",
   "metadata": {},
   "outputs": [
    {
     "data": {
      "text/html": [
       "<div>\n",
       "<style scoped>\n",
       "    .dataframe tbody tr th:only-of-type {\n",
       "        vertical-align: middle;\n",
       "    }\n",
       "\n",
       "    .dataframe tbody tr th {\n",
       "        vertical-align: top;\n",
       "    }\n",
       "\n",
       "    .dataframe thead tr th {\n",
       "        text-align: left;\n",
       "    }\n",
       "\n",
       "    .dataframe thead tr:last-of-type th {\n",
       "        text-align: right;\n",
       "    }\n",
       "</style>\n",
       "<table border=\"1\" class=\"dataframe\">\n",
       "  <thead>\n",
       "    <tr>\n",
       "      <th></th>\n",
       "      <th colspan=\"4\" halign=\"left\">Country</th>\n",
       "    </tr>\n",
       "    <tr>\n",
       "      <th></th>\n",
       "      <th colspan=\"4\" halign=\"left\">count</th>\n",
       "    </tr>\n",
       "    <tr>\n",
       "      <th>Income Group</th>\n",
       "      <th>LI</th>\n",
       "      <th>LM</th>\n",
       "      <th>UM</th>\n",
       "      <th>HI</th>\n",
       "    </tr>\n",
       "    <tr>\n",
       "      <th>Region</th>\n",
       "      <th></th>\n",
       "      <th></th>\n",
       "      <th></th>\n",
       "      <th></th>\n",
       "    </tr>\n",
       "  </thead>\n",
       "  <tbody>\n",
       "    <tr>\n",
       "      <th>Africa</th>\n",
       "      <td>24.0</td>\n",
       "      <td>16.0</td>\n",
       "      <td>7.0</td>\n",
       "      <td>1.0</td>\n",
       "    </tr>\n",
       "    <tr>\n",
       "      <th>Asia-Pacific</th>\n",
       "      <td>5.0</td>\n",
       "      <td>13.0</td>\n",
       "      <td>4.0</td>\n",
       "      <td>6.0</td>\n",
       "    </tr>\n",
       "    <tr>\n",
       "      <th>Central America/Caribbean</th>\n",
       "      <td>1.0</td>\n",
       "      <td>4.0</td>\n",
       "      <td>9.0</td>\n",
       "      <td>3.0</td>\n",
       "    </tr>\n",
       "    <tr>\n",
       "      <th>EU-27</th>\n",
       "      <td>NaN</td>\n",
       "      <td>NaN</td>\n",
       "      <td>3.0</td>\n",
       "      <td>23.0</td>\n",
       "    </tr>\n",
       "    <tr>\n",
       "      <th>Middle East/Central Asia</th>\n",
       "      <td>2.0</td>\n",
       "      <td>5.0</td>\n",
       "      <td>5.0</td>\n",
       "      <td>7.0</td>\n",
       "    </tr>\n",
       "    <tr>\n",
       "      <th>North America</th>\n",
       "      <td>NaN</td>\n",
       "      <td>NaN</td>\n",
       "      <td>1.0</td>\n",
       "      <td>2.0</td>\n",
       "    </tr>\n",
       "    <tr>\n",
       "      <th>Other Europe</th>\n",
       "      <td>NaN</td>\n",
       "      <td>1.0</td>\n",
       "      <td>7.0</td>\n",
       "      <td>3.0</td>\n",
       "    </tr>\n",
       "    <tr>\n",
       "      <th>South America</th>\n",
       "      <td>NaN</td>\n",
       "      <td>3.0</td>\n",
       "      <td>8.0</td>\n",
       "      <td>NaN</td>\n",
       "    </tr>\n",
       "  </tbody>\n",
       "</table>\n",
       "</div>"
      ],
      "text/plain": [
       "                          Country                 \n",
       "                            count                 \n",
       "Income Group                   LI    LM   UM    HI\n",
       "Region                                            \n",
       "Africa                       24.0  16.0  7.0   1.0\n",
       "Asia-Pacific                  5.0  13.0  4.0   6.0\n",
       "Central America/Caribbean     1.0   4.0  9.0   3.0\n",
       "EU-27                         NaN   NaN  3.0  23.0\n",
       "Middle East/Central Asia      2.0   5.0  5.0   7.0\n",
       "North America                 NaN   NaN  1.0   2.0\n",
       "Other Europe                  NaN   1.0  7.0   3.0\n",
       "South America                 NaN   3.0  8.0   NaN"
      ]
     },
     "execution_count": 27,
     "metadata": {},
     "output_type": "execute_result"
    },
    {
     "data": {
      "image/png": "[encoded data removed]",
      "text/plain": [
       "<Figure size 1500x1000 with 1 Axes>"
      ]
     },
     "metadata": {},
     "output_type": "display_data"
    }
   ],
   "source": [
    "countries_income_group_per_region = cleaned_df.groupby(['Region', 'Income Group'], observed=True).agg(\n",
    "    {'Country': ['count']}\n",
    ")\n",
    "\n",
    "countries_income_group_per_region.reset_index()\n",
    "\n",
    "countries_income_group_per_region = countries_income_group_per_region.unstack(level='Income Group')\n",
    "countries_income_group_per_region.plot.bar(\n",
    "    figsize=(15, 10)\n",
    ")\n",
    "plt.legend(['Low income', 'Lower middle', 'Upper middle', 'High income'])\n",
    "plt.title('Number of countries in each income group per region')\n",
    "\n",
    "countries_income_group_per_region"
   ]
  },
  {
   "cell_type": "markdown",
   "id": "cc7ff004",
   "metadata": {},
   "source": [
    "The graph identified that the European Union has the most countries that are under high income group. Meanwhile, Africa has the most countries that belong to the low income group."
   ]
  },
  {
   "cell_type": "markdown",
   "id": "03e66733-db02-4169-bb25-eacb22064a1a",
   "metadata": {},
   "source": [
    "## 6. Is there a correlation between biocapacity and ecological deficit/reserve?"
   ]
  },
  {
   "cell_type": "markdown",
   "id": "03b36d8a",
   "metadata": {},
   "source": [
    "A graph was created to detemine the presence of a correlation between biocapacity and ecological deficit/reserve. Then, the two categories were visualized on a scatter plot with Total biocapacity as the x-axis and Ecological (Deficit) or Reserve as the y-axis."
   ]
  },
  {
   "cell_type": "code",
   "execution_count": 28,
   "id": "b1a02a7d-e1be-4b50-b2f2-1b8f3ea43119",
   "metadata": {},
   "outputs": [
    {
     "data": {
      "image/png": "[encoded data removed]",
      "text/plain": [
       "<Figure size 1500x1000 with 1 Axes>"
      ]
     },
     "metadata": {},
     "output_type": "display_data"
    }
   ],
   "source": [
    "biocapacity_eco_deficit = cleaned_df[['Total biocapacity ', 'Ecological (Deficit) or Reserve']].copy()\n",
    "biocapacity_eco_deficit.plot.scatter(\n",
    "    x='Total biocapacity ', \n",
    "    y='Ecological (Deficit) or Reserve', \n",
    "    alpha=0.5,\n",
    "    figsize=(15, 10)\n",
    ")\n",
    "\n",
    "plt.title(\"Correlation between biocapacity and ecological deficit/reserve\")\n",
    "plt.show()"
   ]
  },
  {
   "cell_type": "markdown",
   "id": "f7b7b717",
   "metadata": {},
   "source": [
    "Then, the data must be checked to see if it is normally distributed. Biocapacity appears to not be normally distributed, but ecological deficit/reserve is mostly normal. Spearman remains ideal since one of the variables is not normally distributed."
   ]
  },
  {
   "cell_type": "code",
   "execution_count": 29,
   "id": "839c9916",
   "metadata": {},
   "outputs": [
    {
     "data": {
      "image/png": "[encoded data removed]",
      "text/plain": [
       "<Figure size 640x480 with 1 Axes>"
      ]
     },
     "metadata": {},
     "output_type": "display_data"
    }
   ],
   "source": [
    "plt.hist(biocapacity_eco_deficit['Total biocapacity '], bins=20)\n",
    "plt.show()"
   ]
  },
  {
   "cell_type": "code",
   "execution_count": 30,
   "id": "723e8da4",
   "metadata": {},
   "outputs": [
    {
     "data": {
      "image/png": "[encoded data removed]",
      "text/plain": [
       "<Figure size 640x480 with 1 Axes>"
      ]
     },
     "metadata": {},
     "output_type": "display_data"
    }
   ],
   "source": [
    "plt.hist(biocapacity_eco_deficit['Ecological (Deficit) or Reserve'], bins=20)\n",
    "plt.show()"
   ]
  },
  {
   "cell_type": "markdown",
   "id": "0a90abc5-5b8e-4637-ab17-c452b3ca88df",
   "metadata": {},
   "source": [
    "A Spearman correlation matrix was used to quantify the relationship between total biocapacity and ecological deficit/reserve. A correlation coefficient of 0.47 was found, suggesting that the two variables have a positive correlation."
   ]
  },
  {
   "cell_type": "code",
   "execution_count": 31,
   "id": "c3e3c08d-7ebc-4410-868f-323b96e35150",
   "metadata": {},
   "outputs": [
    {
     "data": {
      "text/html": [
       "<div>\n",
       "<style scoped>\n",
       "    .dataframe tbody tr th:only-of-type {\n",
       "        vertical-align: middle;\n",
       "    }\n",
       "\n",
       "    .dataframe tbody tr th {\n",
       "        vertical-align: top;\n",
       "    }\n",
       "\n",
       "    .dataframe thead th {\n",
       "        text-align: right;\n",
       "    }\n",
       "</style>\n",
       "<table border=\"1\" class=\"dataframe\">\n",
       "  <thead>\n",
       "    <tr style=\"text-align: right;\">\n",
       "      <th></th>\n",
       "      <th>Total biocapacity</th>\n",
       "      <th>Ecological (Deficit) or Reserve</th>\n",
       "    </tr>\n",
       "  </thead>\n",
       "  <tbody>\n",
       "    <tr>\n",
       "      <th>Total biocapacity</th>\n",
       "      <td>1.00000</td>\n",
       "      <td>0.47428</td>\n",
       "    </tr>\n",
       "    <tr>\n",
       "      <th>Ecological (Deficit) or Reserve</th>\n",
       "      <td>0.47428</td>\n",
       "      <td>1.00000</td>\n",
       "    </tr>\n",
       "  </tbody>\n",
       "</table>\n",
       "</div>"
      ],
      "text/plain": [
       "                                 Total biocapacity   \\\n",
       "Total biocapacity                           1.00000   \n",
       "Ecological (Deficit) or Reserve             0.47428   \n",
       "\n",
       "                                 Ecological (Deficit) or Reserve  \n",
       "Total biocapacity                                        0.47428  \n",
       "Ecological (Deficit) or Reserve                          1.00000  "
      ]
     },
     "execution_count": 31,
     "metadata": {},
     "output_type": "execute_result"
    }
   ],
   "source": [
    "biocapacity_eco_deficit.corr(method = 'spearman')"
   ]
  },
  {
   "cell_type": "markdown",
   "id": "318e6349-5ea5-48e6-bef1-d5bb881cb21a",
   "metadata": {},
   "source": [
    "# IV. Research Question"
   ]
  },
  {
   "cell_type": "markdown",
   "id": "22142cc9-9b45-426b-a1f8-5ca4a6169b6c",
   "metadata": {},
   "source": [
    "How is the total ecological footprint of a country affected by its region, per capita GDP, income group, and population?\n",
    "\n",
    "## Significance of the question\n",
    "As developing nations grow, it is possible that their resource consumption, and consequently, their ecological footprint, may grow with it. It is important, then, to know how factors, namely, income group and per capita GDP correlate with total ecological footprint of a country. With this study, each country and region have the opportunity to see where they can apply significant economic changes in the subsequent years. They may find better alternatives to reduce their ecological footprint and allowing for better allocation of resources in attempts to address climate change.\n",
    "\n",
    "## Relevance of exploratory data analysis questions\n",
    "To find out how region can affect total ecological footprint, the median total ecological footprint of each region was identified. However, it is important to remember that the geographical region is not the only factor affecting the total ecological footprint of a country. As such, other factors such as income group, per capita GDP, and population were identified as being factors that also affect total ecological footprint. Notably, higher income groups were observed to have a higher median total ecological footprint, which is why the number of countries in each income group per region was also explored. Additionally, population was found to not have much of a correlation with the total ecological footprint, despite previous intuition suggesting that it would. \n",
    "\n",
    "Knowing how these factors correlate with each other and total ecological footprint gives a comprehensive idea on which countries and regions will likely require the most attention in addressing climate change going forward."
   ]
  },
  {
   "cell_type": "markdown",
   "id": "c927c02b",
   "metadata": {},
   "source": [
    "# V. Data Modelling"
   ]
  },
  {
   "cell_type": "markdown",
   "id": "b0377f0a",
   "metadata": {},
   "source": [
    "## Pre-processing"
   ]
  },
  {
   "cell_type": "markdown",
   "id": "072805d4",
   "metadata": {},
   "source": [
    "To get a broader sense of how per capita GDP, income group, region, and population affects the total ecological footprint of a country, a data modelling technique called **binning** was used to group together data points in the numerical columns used to answer the research question, such as per capita GDP. Data binning refers to the pre-processing, summarizing, and analyzing data that groups together continuous data into discrete bins or categories in order for the data analysis to be simplified further and the outliers of the dataset to be mitigated properly (Saravanakumar, 2024). Furthermore, it would support the use of the market-basket model for the data mining process in the latter part of the case study."
   ]
  },
  {
   "cell_type": "markdown",
   "id": "b3d87bf8",
   "metadata": {},
   "source": [
    "### 1. Population"
   ]
  },
  {
   "cell_type": "markdown",
   "id": "143e4c5a",
   "metadata": {},
   "source": [
    "The groups formed below are based on the quartiles of data, labelled by \"Small Population\" for the bottom 25%, \"Medium Population\" for the next 25%, \"High Population\" for the next 25%, and \"Very High Population\" for the top 25%."
   ]
  },
  {
   "cell_type": "code",
   "execution_count": 32,
   "id": "b29ee741",
   "metadata": {},
   "outputs": [
    {
     "data": {
      "text/html": [
       "<div>\n",
       "<style scoped>\n",
       "    .dataframe tbody tr th:only-of-type {\n",
       "        vertical-align: middle;\n",
       "    }\n",
       "\n",
       "    .dataframe tbody tr th {\n",
       "        vertical-align: top;\n",
       "    }\n",
       "\n",
       "    .dataframe thead th {\n",
       "        text-align: right;\n",
       "    }\n",
       "</style>\n",
       "<table border=\"1\" class=\"dataframe\">\n",
       "  <thead>\n",
       "    <tr style=\"text-align: right;\">\n",
       "      <th></th>\n",
       "      <th>Country</th>\n",
       "      <th>Population (millions)</th>\n",
       "    </tr>\n",
       "  </thead>\n",
       "  <tbody>\n",
       "    <tr>\n",
       "      <th>1</th>\n",
       "      <td>Albania</td>\n",
       "      <td>Medium Population</td>\n",
       "    </tr>\n",
       "    <tr>\n",
       "      <th>2</th>\n",
       "      <td>Algeria</td>\n",
       "      <td>Very High Population</td>\n",
       "    </tr>\n",
       "    <tr>\n",
       "      <th>3</th>\n",
       "      <td>Angola</td>\n",
       "      <td>Very High Population</td>\n",
       "    </tr>\n",
       "    <tr>\n",
       "      <th>4</th>\n",
       "      <td>Antigua and Barbuda</td>\n",
       "      <td>Small Population</td>\n",
       "    </tr>\n",
       "    <tr>\n",
       "      <th>5</th>\n",
       "      <td>Argentina</td>\n",
       "      <td>Very High Population</td>\n",
       "    </tr>\n",
       "    <tr>\n",
       "      <th>...</th>\n",
       "      <td>...</td>\n",
       "      <td>...</td>\n",
       "    </tr>\n",
       "    <tr>\n",
       "      <th>173</th>\n",
       "      <td>United States of America</td>\n",
       "      <td>Very High Population</td>\n",
       "    </tr>\n",
       "    <tr>\n",
       "      <th>174</th>\n",
       "      <td>Uruguay</td>\n",
       "      <td>Medium Population</td>\n",
       "    </tr>\n",
       "    <tr>\n",
       "      <th>176</th>\n",
       "      <td>Vanuatu</td>\n",
       "      <td>Small Population</td>\n",
       "    </tr>\n",
       "    <tr>\n",
       "      <th>178</th>\n",
       "      <td>Viet Nam</td>\n",
       "      <td>Very High Population</td>\n",
       "    </tr>\n",
       "    <tr>\n",
       "      <th>179</th>\n",
       "      <td>Yemen</td>\n",
       "      <td>High Population</td>\n",
       "    </tr>\n",
       "  </tbody>\n",
       "</table>\n",
       "<p>163 rows × 2 columns</p>\n",
       "</div>"
      ],
      "text/plain": [
       "                      Country Population (millions)\n",
       "1                     Albania     Medium Population\n",
       "2                     Algeria  Very High Population\n",
       "3                      Angola  Very High Population\n",
       "4         Antigua and Barbuda      Small Population\n",
       "5                   Argentina  Very High Population\n",
       "..                        ...                   ...\n",
       "173  United States of America  Very High Population\n",
       "174                   Uruguay     Medium Population\n",
       "176                   Vanuatu      Small Population\n",
       "178                  Viet Nam  Very High Population\n",
       "179                     Yemen       High Population\n",
       "\n",
       "[163 rows x 2 columns]"
      ]
     },
     "execution_count": 32,
     "metadata": {},
     "output_type": "execute_result"
    }
   ],
   "source": [
    "labels = ['Small Population', 'Medium Population', 'High Population', 'Very High Population']\n",
    "cleaned_df['Population (millions)'] = pd.qcut(cleaned_df['Population (millions)'], q=[0, .25, .5, .75, 1], labels=labels)\n",
    "\n",
    "cleaned_df[['Country', 'Population (millions)']]"
   ]
  },
  {
   "cell_type": "markdown",
   "id": "29035b38-a6e2-47b5-baeb-b795a6e31571",
   "metadata": {},
   "source": [
    "The table above presents pre-processed data of the countries and their corresponding groups based on their population (millions)."
   ]
  },
  {
   "cell_type": "markdown",
   "id": "3be6056d",
   "metadata": {},
   "source": [
    "### 2. Per Capita GDP"
   ]
  },
  {
   "cell_type": "markdown",
   "id": "fa65ba1e",
   "metadata": {},
   "source": [
    "A similar process is followed for Per Capita GDP as was done for Population. Each bin also represents a quarter of the data."
   ]
  },
  {
   "cell_type": "code",
   "execution_count": 33,
   "id": "c8f4e4c3",
   "metadata": {},
   "outputs": [
    {
     "data": {
      "text/html": [
       "<div>\n",
       "<style scoped>\n",
       "    .dataframe tbody tr th:only-of-type {\n",
       "        vertical-align: middle;\n",
       "    }\n",
       "\n",
       "    .dataframe tbody tr th {\n",
       "        vertical-align: top;\n",
       "    }\n",
       "\n",
       "    .dataframe thead th {\n",
       "        text-align: right;\n",
       "    }\n",
       "</style>\n",
       "<table border=\"1\" class=\"dataframe\">\n",
       "  <thead>\n",
       "    <tr style=\"text-align: right;\">\n",
       "      <th></th>\n",
       "      <th>Country</th>\n",
       "      <th>Per Capita GDP</th>\n",
       "    </tr>\n",
       "  </thead>\n",
       "  <tbody>\n",
       "    <tr>\n",
       "      <th>1</th>\n",
       "      <td>Albania</td>\n",
       "      <td>High Per Capita GDP</td>\n",
       "    </tr>\n",
       "    <tr>\n",
       "      <th>2</th>\n",
       "      <td>Algeria</td>\n",
       "      <td>Medium Per Capita GDP</td>\n",
       "    </tr>\n",
       "    <tr>\n",
       "      <th>3</th>\n",
       "      <td>Angola</td>\n",
       "      <td>Medium Per Capita GDP</td>\n",
       "    </tr>\n",
       "    <tr>\n",
       "      <th>4</th>\n",
       "      <td>Antigua and Barbuda</td>\n",
       "      <td>High Per Capita GDP</td>\n",
       "    </tr>\n",
       "    <tr>\n",
       "      <th>5</th>\n",
       "      <td>Argentina</td>\n",
       "      <td>High Per Capita GDP</td>\n",
       "    </tr>\n",
       "    <tr>\n",
       "      <th>...</th>\n",
       "      <td>...</td>\n",
       "      <td>...</td>\n",
       "    </tr>\n",
       "    <tr>\n",
       "      <th>173</th>\n",
       "      <td>United States of America</td>\n",
       "      <td>Very High Per Capita GDP</td>\n",
       "    </tr>\n",
       "    <tr>\n",
       "      <th>174</th>\n",
       "      <td>Uruguay</td>\n",
       "      <td>High Per Capita GDP</td>\n",
       "    </tr>\n",
       "    <tr>\n",
       "      <th>176</th>\n",
       "      <td>Vanuatu</td>\n",
       "      <td>Low Per Capita GDP</td>\n",
       "    </tr>\n",
       "    <tr>\n",
       "      <th>178</th>\n",
       "      <td>Viet Nam</td>\n",
       "      <td>Medium Per Capita GDP</td>\n",
       "    </tr>\n",
       "    <tr>\n",
       "      <th>179</th>\n",
       "      <td>Yemen</td>\n",
       "      <td>Low Per Capita GDP</td>\n",
       "    </tr>\n",
       "  </tbody>\n",
       "</table>\n",
       "<p>163 rows × 2 columns</p>\n",
       "</div>"
      ],
      "text/plain": [
       "                      Country            Per Capita GDP\n",
       "1                     Albania       High Per Capita GDP\n",
       "2                     Algeria     Medium Per Capita GDP\n",
       "3                      Angola     Medium Per Capita GDP\n",
       "4         Antigua and Barbuda       High Per Capita GDP\n",
       "5                   Argentina       High Per Capita GDP\n",
       "..                        ...                       ...\n",
       "173  United States of America  Very High Per Capita GDP\n",
       "174                   Uruguay       High Per Capita GDP\n",
       "176                   Vanuatu        Low Per Capita GDP\n",
       "178                  Viet Nam     Medium Per Capita GDP\n",
       "179                     Yemen        Low Per Capita GDP\n",
       "\n",
       "[163 rows x 2 columns]"
      ]
     },
     "execution_count": 33,
     "metadata": {},
     "output_type": "execute_result"
    }
   ],
   "source": [
    "labels = ['Low Per Capita GDP', 'Medium Per Capita GDP', 'High Per Capita GDP', 'Very High Per Capita GDP']\n",
    "cleaned_df['Per Capita GDP'] = pd.qcut(cleaned_df['Per Capita GDP'], q=[0, .25, .5, .75, 1], labels=labels)\n",
    "\n",
    "cleaned_df[['Country', 'Per Capita GDP']]"
   ]
  },
  {
   "cell_type": "markdown",
   "id": "3253a7fb-f9a6-4668-8a2b-b652bb69dd1d",
   "metadata": {},
   "source": [
    "The table above presents pre-processed data of the countries and their corresponding groups based on their Per Capita GDP."
   ]
  },
  {
   "cell_type": "markdown",
   "id": "1b371566",
   "metadata": {},
   "source": [
    "Two other columns, Region and Income Group, mentioned in the research question are already categorical data so no further pre-processing will be done for those columns."
   ]
  },
  {
   "cell_type": "markdown",
   "id": "2e2220ae-2ca3-477d-8759-2c507c2735f7",
   "metadata": {},
   "source": [
    "### 3. Region"
   ]
  },
  {
   "cell_type": "code",
   "execution_count": 34,
   "id": "d1da3e2f",
   "metadata": {},
   "outputs": [
    {
     "data": {
      "text/html": [
       "<div>\n",
       "<style scoped>\n",
       "    .dataframe tbody tr th:only-of-type {\n",
       "        vertical-align: middle;\n",
       "    }\n",
       "\n",
       "    .dataframe tbody tr th {\n",
       "        vertical-align: top;\n",
       "    }\n",
       "\n",
       "    .dataframe thead th {\n",
       "        text-align: right;\n",
       "    }\n",
       "</style>\n",
       "<table border=\"1\" class=\"dataframe\">\n",
       "  <thead>\n",
       "    <tr style=\"text-align: right;\">\n",
       "      <th></th>\n",
       "      <th>Country</th>\n",
       "      <th>Region</th>\n",
       "    </tr>\n",
       "  </thead>\n",
       "  <tbody>\n",
       "    <tr>\n",
       "      <th>1</th>\n",
       "      <td>Albania</td>\n",
       "      <td>Other Europe</td>\n",
       "    </tr>\n",
       "    <tr>\n",
       "      <th>2</th>\n",
       "      <td>Algeria</td>\n",
       "      <td>Africa</td>\n",
       "    </tr>\n",
       "    <tr>\n",
       "      <th>3</th>\n",
       "      <td>Angola</td>\n",
       "      <td>Africa</td>\n",
       "    </tr>\n",
       "    <tr>\n",
       "      <th>4</th>\n",
       "      <td>Antigua and Barbuda</td>\n",
       "      <td>Central America/Caribbean</td>\n",
       "    </tr>\n",
       "    <tr>\n",
       "      <th>5</th>\n",
       "      <td>Argentina</td>\n",
       "      <td>South America</td>\n",
       "    </tr>\n",
       "    <tr>\n",
       "      <th>...</th>\n",
       "      <td>...</td>\n",
       "      <td>...</td>\n",
       "    </tr>\n",
       "    <tr>\n",
       "      <th>173</th>\n",
       "      <td>United States of America</td>\n",
       "      <td>North America</td>\n",
       "    </tr>\n",
       "    <tr>\n",
       "      <th>174</th>\n",
       "      <td>Uruguay</td>\n",
       "      <td>South America</td>\n",
       "    </tr>\n",
       "    <tr>\n",
       "      <th>176</th>\n",
       "      <td>Vanuatu</td>\n",
       "      <td>Asia-Pacific</td>\n",
       "    </tr>\n",
       "    <tr>\n",
       "      <th>178</th>\n",
       "      <td>Viet Nam</td>\n",
       "      <td>Asia-Pacific</td>\n",
       "    </tr>\n",
       "    <tr>\n",
       "      <th>179</th>\n",
       "      <td>Yemen</td>\n",
       "      <td>Middle East/Central Asia</td>\n",
       "    </tr>\n",
       "  </tbody>\n",
       "</table>\n",
       "<p>163 rows × 2 columns</p>\n",
       "</div>"
      ],
      "text/plain": [
       "                      Country                     Region\n",
       "1                     Albania               Other Europe\n",
       "2                     Algeria                     Africa\n",
       "3                      Angola                     Africa\n",
       "4         Antigua and Barbuda  Central America/Caribbean\n",
       "5                   Argentina              South America\n",
       "..                        ...                        ...\n",
       "173  United States of America              North America\n",
       "174                   Uruguay              South America\n",
       "176                   Vanuatu               Asia-Pacific\n",
       "178                  Viet Nam               Asia-Pacific\n",
       "179                     Yemen   Middle East/Central Asia\n",
       "\n",
       "[163 rows x 2 columns]"
      ]
     },
     "execution_count": 34,
     "metadata": {},
     "output_type": "execute_result"
    }
   ],
   "source": [
    "cleaned_df[['Country', 'Region']]"
   ]
  },
  {
   "cell_type": "markdown",
   "id": "58835a1c-c6ef-45e5-b404-3729c812cc85",
   "metadata": {},
   "source": [
    "The table above presents the countries and their corresponding region."
   ]
  },
  {
   "cell_type": "markdown",
   "id": "d9f35c16-8f6f-4faa-abc5-005aa827a2f9",
   "metadata": {},
   "source": [
    "### 4. Income Group"
   ]
  },
  {
   "cell_type": "code",
   "execution_count": 35,
   "id": "f3b36544",
   "metadata": {},
   "outputs": [
    {
     "data": {
      "text/html": [
       "<div>\n",
       "<style scoped>\n",
       "    .dataframe tbody tr th:only-of-type {\n",
       "        vertical-align: middle;\n",
       "    }\n",
       "\n",
       "    .dataframe tbody tr th {\n",
       "        vertical-align: top;\n",
       "    }\n",
       "\n",
       "    .dataframe thead th {\n",
       "        text-align: right;\n",
       "    }\n",
       "</style>\n",
       "<table border=\"1\" class=\"dataframe\">\n",
       "  <thead>\n",
       "    <tr style=\"text-align: right;\">\n",
       "      <th></th>\n",
       "      <th>Country</th>\n",
       "      <th>Income Group</th>\n",
       "    </tr>\n",
       "  </thead>\n",
       "  <tbody>\n",
       "    <tr>\n",
       "      <th>1</th>\n",
       "      <td>Albania</td>\n",
       "      <td>UM</td>\n",
       "    </tr>\n",
       "    <tr>\n",
       "      <th>2</th>\n",
       "      <td>Algeria</td>\n",
       "      <td>UM</td>\n",
       "    </tr>\n",
       "    <tr>\n",
       "      <th>3</th>\n",
       "      <td>Angola</td>\n",
       "      <td>LM</td>\n",
       "    </tr>\n",
       "    <tr>\n",
       "      <th>4</th>\n",
       "      <td>Antigua and Barbuda</td>\n",
       "      <td>HI</td>\n",
       "    </tr>\n",
       "    <tr>\n",
       "      <th>5</th>\n",
       "      <td>Argentina</td>\n",
       "      <td>UM</td>\n",
       "    </tr>\n",
       "    <tr>\n",
       "      <th>...</th>\n",
       "      <td>...</td>\n",
       "      <td>...</td>\n",
       "    </tr>\n",
       "    <tr>\n",
       "      <th>173</th>\n",
       "      <td>United States of America</td>\n",
       "      <td>HI</td>\n",
       "    </tr>\n",
       "    <tr>\n",
       "      <th>174</th>\n",
       "      <td>Uruguay</td>\n",
       "      <td>UM</td>\n",
       "    </tr>\n",
       "    <tr>\n",
       "      <th>176</th>\n",
       "      <td>Vanuatu</td>\n",
       "      <td>LM</td>\n",
       "    </tr>\n",
       "    <tr>\n",
       "      <th>178</th>\n",
       "      <td>Viet Nam</td>\n",
       "      <td>LM</td>\n",
       "    </tr>\n",
       "    <tr>\n",
       "      <th>179</th>\n",
       "      <td>Yemen</td>\n",
       "      <td>LM</td>\n",
       "    </tr>\n",
       "  </tbody>\n",
       "</table>\n",
       "<p>163 rows × 2 columns</p>\n",
       "</div>"
      ],
      "text/plain": [
       "                      Country Income Group\n",
       "1                     Albania           UM\n",
       "2                     Algeria           UM\n",
       "3                      Angola           LM\n",
       "4         Antigua and Barbuda           HI\n",
       "5                   Argentina           UM\n",
       "..                        ...          ...\n",
       "173  United States of America           HI\n",
       "174                   Uruguay           UM\n",
       "176                   Vanuatu           LM\n",
       "178                  Viet Nam           LM\n",
       "179                     Yemen           LM\n",
       "\n",
       "[163 rows x 2 columns]"
      ]
     },
     "execution_count": 35,
     "metadata": {},
     "output_type": "execute_result"
    }
   ],
   "source": [
    "cleaned_df[['Country', 'Income Group']]"
   ]
  },
  {
   "cell_type": "markdown",
   "id": "0c80e8aa",
   "metadata": {},
   "source": [
    "The table above presents the countries and their corresponding income group. The data in the income group column are abbreviated as follows:\n",
    "- HI: High income\n",
    "- UM: Upper middle income\n",
    "- LM: Lower middle income\n",
    "- LI: Low income"
   ]
  },
  {
   "cell_type": "markdown",
   "id": "ca67e36c",
   "metadata": {},
   "source": [
    "A copy of the DataFrame was created specifically for the data modelling portion."
   ]
  },
  {
   "cell_type": "code",
   "execution_count": 36,
   "id": "3e1ccd23",
   "metadata": {},
   "outputs": [],
   "source": [
    "labels = ['Low Total Ecological Footprint', 'Medium Total Ecological Footprint', 'High Total Ecological Footprint', 'Very High Total Ecological Footprint']\n",
    "cleaned_df['Total Ecological Footprint (Consumption)'] = pd.qcut(cleaned_df['Total Ecological Footprint (Consumption)'], q=[0, .25, .5, .75, 1], labels=labels)"
   ]
  },
  {
   "cell_type": "markdown",
   "id": "00de59ac",
   "metadata": {},
   "source": [
    "## Matrix one-hot conversion"
   ]
  },
  {
   "cell_type": "markdown",
   "id": "b179fe21",
   "metadata": {},
   "source": [
    "The dataset must then be converted to a matrix to fit into the market-basket model, where each of the items is a value from a column we are interested in, and each country is a \"basket\" containing those items. However, the original dataset will still be used for the statistical inference section, so a separate copy was made here specifially for the data mining section.\n",
    "\n",
    "The country names are stored separately, because the DataFrame to perform Rule Mining operations on must only contain the items (variables to operate on)."
   ]
  },
  {
   "cell_type": "code",
   "execution_count": 37,
   "id": "e5f549a0",
   "metadata": {},
   "outputs": [
    {
     "data": {
      "text/html": [
       "<div>\n",
       "<style scoped>\n",
       "    .dataframe tbody tr th:only-of-type {\n",
       "        vertical-align: middle;\n",
       "    }\n",
       "\n",
       "    .dataframe tbody tr th {\n",
       "        vertical-align: top;\n",
       "    }\n",
       "\n",
       "    .dataframe thead th {\n",
       "        text-align: right;\n",
       "    }\n",
       "</style>\n",
       "<table border=\"1\" class=\"dataframe\">\n",
       "  <thead>\n",
       "    <tr style=\"text-align: right;\">\n",
       "      <th></th>\n",
       "      <th>Region</th>\n",
       "      <th>Per Capita GDP</th>\n",
       "      <th>Income Group</th>\n",
       "      <th>Population (millions)</th>\n",
       "      <th>Total Ecological Footprint (Consumption)</th>\n",
       "    </tr>\n",
       "  </thead>\n",
       "  <tbody>\n",
       "    <tr>\n",
       "      <th>1</th>\n",
       "      <td>Other Europe</td>\n",
       "      <td>High Per Capita GDP</td>\n",
       "      <td>UM</td>\n",
       "      <td>Medium Population</td>\n",
       "      <td>Medium Total Ecological Footprint</td>\n",
       "    </tr>\n",
       "    <tr>\n",
       "      <th>2</th>\n",
       "      <td>Africa</td>\n",
       "      <td>Medium Per Capita GDP</td>\n",
       "      <td>UM</td>\n",
       "      <td>Very High Population</td>\n",
       "      <td>Medium Total Ecological Footprint</td>\n",
       "    </tr>\n",
       "    <tr>\n",
       "      <th>3</th>\n",
       "      <td>Africa</td>\n",
       "      <td>Medium Per Capita GDP</td>\n",
       "      <td>LM</td>\n",
       "      <td>Very High Population</td>\n",
       "      <td>Low Total Ecological Footprint</td>\n",
       "    </tr>\n",
       "    <tr>\n",
       "      <th>4</th>\n",
       "      <td>Central America/Caribbean</td>\n",
       "      <td>High Per Capita GDP</td>\n",
       "      <td>HI</td>\n",
       "      <td>Small Population</td>\n",
       "      <td>High Total Ecological Footprint</td>\n",
       "    </tr>\n",
       "    <tr>\n",
       "      <th>5</th>\n",
       "      <td>South America</td>\n",
       "      <td>High Per Capita GDP</td>\n",
       "      <td>UM</td>\n",
       "      <td>Very High Population</td>\n",
       "      <td>High Total Ecological Footprint</td>\n",
       "    </tr>\n",
       "    <tr>\n",
       "      <th>...</th>\n",
       "      <td>...</td>\n",
       "      <td>...</td>\n",
       "      <td>...</td>\n",
       "      <td>...</td>\n",
       "      <td>...</td>\n",
       "    </tr>\n",
       "    <tr>\n",
       "      <th>173</th>\n",
       "      <td>North America</td>\n",
       "      <td>Very High Per Capita GDP</td>\n",
       "      <td>HI</td>\n",
       "      <td>Very High Population</td>\n",
       "      <td>Very High Total Ecological Footprint</td>\n",
       "    </tr>\n",
       "    <tr>\n",
       "      <th>174</th>\n",
       "      <td>South America</td>\n",
       "      <td>High Per Capita GDP</td>\n",
       "      <td>UM</td>\n",
       "      <td>Medium Population</td>\n",
       "      <td>Medium Total Ecological Footprint</td>\n",
       "    </tr>\n",
       "    <tr>\n",
       "      <th>176</th>\n",
       "      <td>Asia-Pacific</td>\n",
       "      <td>Low Per Capita GDP</td>\n",
       "      <td>LM</td>\n",
       "      <td>Small Population</td>\n",
       "      <td>Medium Total Ecological Footprint</td>\n",
       "    </tr>\n",
       "    <tr>\n",
       "      <th>178</th>\n",
       "      <td>Asia-Pacific</td>\n",
       "      <td>Medium Per Capita GDP</td>\n",
       "      <td>LM</td>\n",
       "      <td>Very High Population</td>\n",
       "      <td>Medium Total Ecological Footprint</td>\n",
       "    </tr>\n",
       "    <tr>\n",
       "      <th>179</th>\n",
       "      <td>Middle East/Central Asia</td>\n",
       "      <td>Low Per Capita GDP</td>\n",
       "      <td>LM</td>\n",
       "      <td>High Population</td>\n",
       "      <td>Low Total Ecological Footprint</td>\n",
       "    </tr>\n",
       "  </tbody>\n",
       "</table>\n",
       "<p>163 rows × 5 columns</p>\n",
       "</div>"
      ],
      "text/plain": [
       "                        Region            Per Capita GDP Income Group  \\\n",
       "1                 Other Europe       High Per Capita GDP           UM   \n",
       "2                       Africa     Medium Per Capita GDP           UM   \n",
       "3                       Africa     Medium Per Capita GDP           LM   \n",
       "4    Central America/Caribbean       High Per Capita GDP           HI   \n",
       "5                South America       High Per Capita GDP           UM   \n",
       "..                         ...                       ...          ...   \n",
       "173              North America  Very High Per Capita GDP           HI   \n",
       "174              South America       High Per Capita GDP           UM   \n",
       "176               Asia-Pacific        Low Per Capita GDP           LM   \n",
       "178               Asia-Pacific     Medium Per Capita GDP           LM   \n",
       "179   Middle East/Central Asia        Low Per Capita GDP           LM   \n",
       "\n",
       "    Population (millions) Total Ecological Footprint (Consumption)  \n",
       "1       Medium Population        Medium Total Ecological Footprint  \n",
       "2    Very High Population        Medium Total Ecological Footprint  \n",
       "3    Very High Population           Low Total Ecological Footprint  \n",
       "4        Small Population          High Total Ecological Footprint  \n",
       "5    Very High Population          High Total Ecological Footprint  \n",
       "..                    ...                                      ...  \n",
       "173  Very High Population     Very High Total Ecological Footprint  \n",
       "174     Medium Population        Medium Total Ecological Footprint  \n",
       "176      Small Population        Medium Total Ecological Footprint  \n",
       "178  Very High Population        Medium Total Ecological Footprint  \n",
       "179       High Population           Low Total Ecological Footprint  \n",
       "\n",
       "[163 rows x 5 columns]"
      ]
     },
     "execution_count": 37,
     "metadata": {},
     "output_type": "execute_result"
    }
   ],
   "source": [
    "# Create a copy of the dataset with only the variables concerning the research question\n",
    "# to be converted into a one-hot encoded matrix.\n",
    "country_names = cleaned_df['Country']\n",
    "rm_df = cleaned_df[['Region', 'Per Capita GDP', 'Income Group', 'Population (millions)', 'Total Ecological Footprint (Consumption)']]\n",
    "\n",
    "rm_df"
   ]
  },
  {
   "cell_type": "markdown",
   "id": "3264965b",
   "metadata": {},
   "source": [
    "An integer value is assigned to each item. As expected, 24 items are present, represented from 0 - 23:\n",
    "- 8 regions;\n",
    "- 4 per capita GDP classifications;\n",
    "- 4 income group classifications;\n",
    "- 4 population classifiations;\n",
    "- and 4 total ecological footprint classifiations."
   ]
  },
  {
   "cell_type": "code",
   "execution_count": 38,
   "id": "c7f1599d",
   "metadata": {},
   "outputs": [
    {
     "name": "stdout",
     "output_type": "stream",
     "text": [
      "Other Europe - 0\n",
      "High Per Capita GDP - 1\n",
      "UM - 2\n",
      "Medium Population - 3\n",
      "Medium Total Ecological Footprint - 4\n",
      "Africa - 5\n",
      "Medium Per Capita GDP - 6\n",
      "Very High Population - 7\n",
      "LM - 8\n",
      "Low Total Ecological Footprint - 9\n",
      "Central America/Caribbean - 10\n",
      "HI - 11\n",
      "Small Population - 12\n",
      "High Total Ecological Footprint - 13\n",
      "South America - 14\n",
      "Middle East/Central Asia - 15\n",
      "Asia-Pacific - 16\n",
      "Very High Per Capita GDP - 17\n",
      "High Population - 18\n",
      "Very High Total Ecological Footprint - 19\n",
      "EU-27 - 20\n",
      "LI - 21\n",
      "Low Per Capita GDP - 22\n",
      "North America - 23\n"
     ]
    }
   ],
   "source": [
    "# Get all the values from the dataset.\n",
    "values = rm_df.values.ravel()\n",
    "\n",
    "# Filter all unique values from the dataset.\n",
    "values = [value for value in pd.unique(values) if not pd.isnull(value)]\n",
    "\n",
    "# Create a dictionary where the original item name corresponds to an integer.\n",
    "value_dict = {}\n",
    "for i, value in enumerate(values):\n",
    "    value_dict[value] = i\n",
    "    print(value, \"-\", i)"
   ]
  },
  {
   "cell_type": "markdown",
   "id": "d6447a8b",
   "metadata": {},
   "source": [
    "Then, the baskets are created from the DataFrame by converting it into list form. Each country should have 5 items, since 5 columns were selected as being important to the research question."
   ]
  },
  {
   "cell_type": "code",
   "execution_count": 39,
   "id": "af08aaa7",
   "metadata": {},
   "outputs": [
    {
     "name": "stdout",
     "output_type": "stream",
     "text": [
      "Albania [0 1 2 3 4]\n",
      "Algeria [2 4 5 6 7]\n",
      "Angola [5 6 7 8 9]\n",
      "Antigua and Barbuda [ 1 10 11 12 13]\n",
      "Argentina [ 1  2  7 13 14]\n",
      "Armenia [ 3  4  6  8 15]\n",
      "Australia [11 16 17 18 19]\n",
      "Austria [ 3 11 17 19 20]\n",
      "Azerbaijan [ 1  2  4 15 18]\n",
      "Bahrain [11 12 15 17 19]\n",
      "Bangladesh [ 6  7  9 16 21]\n",
      "Barbados [ 1 10 11 12 13]\n",
      "Belarus [ 0  1  2  3 19]\n",
      "Belgium [11 17 18 19 20]\n",
      "Belize [ 2  6 10 12 19]\n",
      "Benin [ 5  9 18 21 22]\n",
      "Bhutan [ 6  8 12 16 19]\n",
      "Bolivia [ 6  8 13 14 18]\n",
      "Bosnia and Herzegovina [ 0  1  2  3 19]\n",
      "Botswana [ 1  2  4  5 12]\n",
      "Brazil [ 1  2  7 13 14]\n",
      "Brunei Darussalam [11 12 16 17 19]\n",
      "Bulgaria [ 1  2  3 13 20]\n",
      "Burkina Faso [ 5  9 18 21 22]\n",
      "Burundi [ 5  9 18 21 22]\n",
      "Cabo Verde [ 5  6  8  9 12]\n",
      "Cambodia [ 9 16 18 21 22]\n",
      "Cameroon [ 5  8  9 18 22]\n",
      "Canada [ 7 11 17 19 23]\n",
      "Central African Republic [ 3  5  9 21 22]\n",
      "Chad [ 4  5 18 21 22]\n",
      "Chile [ 1  2 13 14 18]\n",
      "China [ 1  2  7 13 16]\n",
      "Colombia [ 1  2  4  7 14]\n",
      "Comoros [ 4  5 12 21 22]\n",
      "Congo [ 3  5  8  9 22]\n",
      "Congo, Democratic Republic of [ 5  7  9 21 22]\n",
      "Costa Rica [ 1  2  3 10 13]\n",
      "Croatia [ 0  1  3 11 13]\n",
      "Cyprus [11 12 13 17 20]\n",
      "Czech Republic [11 17 18 19 20]\n",
      "Denmark [ 3 11 17 19 20]\n",
      "Djibouti [ 5  6  8 12 13]\n",
      "Dominica [ 2  6 10 12 13]\n",
      "Dominican Republic [ 1  2  4 10 18]\n",
      "Ecuador [ 2  4  6 14 18]\n",
      "Egypt [4 5 6 7 8]\n",
      "El Salvador [ 3  4  6  8 10]\n",
      "Equatorial Guinea [ 1  4  5 11 12]\n",
      "Eritrea [ 3  5  9 21 22]\n",
      "Estonia [11 12 17 19 20]\n",
      "Eswatini [ 5  6  8 12 13]\n",
      "Ethiopia [ 5  7  9 21 22]\n",
      "Fiji [ 2  6 12 13 16]\n",
      "Finland [ 3 11 17 19 20]\n",
      "France [ 7 11 17 19 20]\n",
      "Gabon [ 1  2  4  5 12]\n",
      "Gambia [ 5  9 12 21 22]\n",
      "Georgia [ 1  3  8 13 15]\n",
      "Germany [ 7 11 17 19 20]\n",
      "Ghana [ 4  5  6  8 18]\n",
      "Greece [ 1 11 13 18 20]\n",
      "Grenada [ 1  2  4 10 12]\n",
      "Guatemala [ 4  6  8 10 18]\n",
      "Guinea [ 4  5 18 21 22]\n",
      "Guinea-Bissau [ 5  9 12 21 22]\n",
      "Guyana [ 8 12 13 14 17]\n",
      "Haiti [ 9 10 18 21 22]\n",
      "Honduras [ 6  8  9 10 18]\n",
      "Hungary [ 3 11 13 17 20]\n",
      "India [ 6  7  8  9 16]\n",
      "Indonesia [ 4  6  7  8 16]\n",
      "Iran, Islamic Republic of [ 1  2  7 13 15]\n",
      "Iraq [ 4  6  7  8 15]\n",
      "Ireland [ 3 11 17 19 20]\n",
      "Israel [ 3 11 15 17 19]\n",
      "Italy [ 7 11 13 17 20]\n",
      "Jamaica [ 2  3  4  6 10]\n",
      "Japan [ 7 11 13 16 17]\n",
      "Jordan [ 2  6  9 15 18]\n",
      "Kazakhstan [ 1  2 15 18 19]\n",
      "Kenya [ 5  6  7  9 21]\n",
      "Korea, Republic of [ 7 11 16 17 19]\n",
      "Kuwait [ 3 11 15 17 19]\n",
      "Kyrgyzstan [ 3  4 15 21 22]\n",
      "Lao People's Democratic Republic [ 3  4  6  8 16]\n",
      "Latvia [11 12 17 19 20]\n",
      "Lesotho [ 5  8  9 12 22]\n",
      "Liberia [ 3  5  9 21 22]\n",
      "Lithuania [ 2 12 17 19 20]\n",
      "Luxembourg [11 12 17 19 20]\n",
      "Madagascar [ 5  9 18 21 22]\n",
      "Malawi [ 5  9 18 21 22]\n",
      "Malaysia [ 1  2  7 16 19]\n",
      "Mali [ 5  9 18 21 22]\n",
      "Malta [11 12 13 17 20]\n",
      "Mauritania [3 4 5 6 8]\n",
      "Mauritius [ 1  2  5 12 13]\n",
      "Mexico [ 1  2  4  7 23]\n",
      "Mongolia [ 3  6  8 16 19]\n",
      "Montenegro [ 0  1  2 12 13]\n",
      "Morocco [4 5 6 7 8]\n",
      "Mozambique [ 5  9 18 21 22]\n",
      "Myanmar [ 7  9 16 21 22]\n",
      "Namibia [ 2  4  5  6 12]\n",
      "Nepal [ 9 16 18 21 22]\n",
      "Netherlands [11 17 18 19 20]\n",
      "New Zealand [ 3 11 16 17 19]\n",
      "Nicaragua [ 3  4  6  8 10]\n",
      "Niger [ 4  5 18 21 22]\n",
      "Nigeria [5 6 7 8 9]\n",
      "Norway [ 0  3 11 17 19]\n",
      "Oman [ 1  3 11 15 19]\n",
      "Pakistan [ 6  7  8  9 16]\n",
      "Panama [ 1  2  3  4 10]\n",
      "Papua New Guinea [ 3  8  9 16 22]\n",
      "Paraguay [ 3  6  8 13 14]\n",
      "Peru [ 2  4  6  7 14]\n",
      "Philippines [ 6  7  8  9 16]\n",
      "Poland [ 7 11 17 19 20]\n",
      "Portugal [11 13 17 18 20]\n",
      "Qatar [ 3 11 15 17 19]\n",
      "Republic of Moldova [0 1 3 4 8]\n",
      "Republic of North Macedonia [ 0  1  2 12 13]\n",
      "Romania [ 1  2 13 18 20]\n",
      "Russian Federation [ 0  1  2  7 19]\n",
      "Rwanda [ 5  9 18 21 22]\n",
      "Saint Lucia [ 1  2  4 10 12]\n",
      "Saint Vincent and Grenadines [ 2  4  6 10 12]\n",
      "Samoa [ 6  8 12 13 16]\n",
      "Sao Tome and Principe [ 5  8  9 12 22]\n",
      "Saudi Arabia [ 7 11 15 17 19]\n",
      "Senegal [ 5  8  9 18 22]\n",
      "Serbia [ 0  1  2  3 13]\n",
      "Sierra Leone [ 3  5  9 21 22]\n",
      "Singapore [ 3 11 16 17 19]\n",
      "Slovakia [ 3 11 17 19 20]\n",
      "Slovenia [11 12 17 19 20]\n",
      "Solomon Islands [ 4 12 16 21 22]\n",
      "Somalia [ 5  9 18 21 22]\n",
      "South Africa [ 2  5  6  7 13]\n",
      "South Sudan [ 4  5  8 18 22]\n",
      "Spain [ 7 11 13 17 20]\n",
      "Sudan [ 5  7  8  9 22]\n",
      "Suriname [ 1  2 12 13 14]\n",
      "Sweden [11 17 18 19 20]\n",
      "Tajikistan [ 9 15 18 21 22]\n",
      "Tanzania, United Republic of [ 5  7  9 21 22]\n",
      "Thailand [ 1  2  4  7 16]\n",
      "Timor-Leste [ 8  9 12 16 22]\n",
      "Togo [ 3  5  9 21 22]\n",
      "Tonga [ 6  8 12 13 16]\n",
      "Trinidad and Tobago [ 1 10 11 12 19]\n",
      "Tunisia [ 2  4  5  6 18]\n",
      "Turkiye [ 2  7 13 15 17]\n",
      "Turkmenistan [ 1  3  8 13 15]\n",
      "United Arab Emirates [11 15 17 18 19]\n",
      "United Kingdom [ 0  7 11 13 17]\n",
      "United States of America [ 7 11 17 19 23]\n",
      "Uruguay [ 1  2  3  4 14]\n",
      "Vanuatu [ 4  8 12 16 22]\n",
      "Viet Nam [ 4  6  7  8 16]\n",
      "Yemen [ 8  9 15 18 22]\n"
     ]
    }
   ],
   "source": [
    "# Reshape the DataFrame such that it can be converted into a basket list format.\n",
    "rm_df = rm_df.stack().map(value_dict).unstack()\n",
    "\n",
    "# Create the baskets from the DataFrame.\n",
    "baskets = []\n",
    "for i in range(rm_df.shape[0]):\n",
    "    basket = np.sort([int(x) for x in rm_df.iloc[i].values.tolist() if str(x) != 'nan'])\n",
    "    baskets.append(basket)\n",
    "\n",
    "for i, basket in enumerate(baskets):\n",
    "    print(country_names.iloc[i], basket)"
   ]
  },
  {
   "cell_type": "markdown",
   "id": "d0b55514",
   "metadata": {},
   "source": [
    "Then, the list of countries is converted to a matrix of one-hot encoded values, where the columns represent the unique values, and a '1' or a '0' is encoded for each country under each column if it has the item or not."
   ]
  },
  {
   "cell_type": "code",
   "execution_count": 40,
   "id": "fcda49e1",
   "metadata": {},
   "outputs": [
    {
     "data": {
      "text/html": [
       "<div>\n",
       "<style scoped>\n",
       "    .dataframe tbody tr th:only-of-type {\n",
       "        vertical-align: middle;\n",
       "    }\n",
       "\n",
       "    .dataframe tbody tr th {\n",
       "        vertical-align: top;\n",
       "    }\n",
       "\n",
       "    .dataframe thead th {\n",
       "        text-align: right;\n",
       "    }\n",
       "</style>\n",
       "<table border=\"1\" class=\"dataframe\">\n",
       "  <thead>\n",
       "    <tr style=\"text-align: right;\">\n",
       "      <th></th>\n",
       "      <th>Other Europe</th>\n",
       "      <th>High Per Capita GDP</th>\n",
       "      <th>UM</th>\n",
       "      <th>Medium Population</th>\n",
       "      <th>Medium Total Ecological Footprint</th>\n",
       "      <th>Africa</th>\n",
       "      <th>Medium Per Capita GDP</th>\n",
       "      <th>Very High Population</th>\n",
       "      <th>LM</th>\n",
       "      <th>Low Total Ecological Footprint</th>\n",
       "      <th>...</th>\n",
       "      <th>South America</th>\n",
       "      <th>Middle East/Central Asia</th>\n",
       "      <th>Asia-Pacific</th>\n",
       "      <th>Very High Per Capita GDP</th>\n",
       "      <th>High Population</th>\n",
       "      <th>Very High Total Ecological Footprint</th>\n",
       "      <th>EU-27</th>\n",
       "      <th>LI</th>\n",
       "      <th>Low Per Capita GDP</th>\n",
       "      <th>North America</th>\n",
       "    </tr>\n",
       "  </thead>\n",
       "  <tbody>\n",
       "    <tr>\n",
       "      <th>0</th>\n",
       "      <td>1</td>\n",
       "      <td>1</td>\n",
       "      <td>1</td>\n",
       "      <td>1</td>\n",
       "      <td>1</td>\n",
       "      <td>0</td>\n",
       "      <td>0</td>\n",
       "      <td>0</td>\n",
       "      <td>0</td>\n",
       "      <td>0</td>\n",
       "      <td>...</td>\n",
       "      <td>0</td>\n",
       "      <td>0</td>\n",
       "      <td>0</td>\n",
       "      <td>0</td>\n",
       "      <td>0</td>\n",
       "      <td>0</td>\n",
       "      <td>0</td>\n",
       "      <td>0</td>\n",
       "      <td>0</td>\n",
       "      <td>0</td>\n",
       "    </tr>\n",
       "    <tr>\n",
       "      <th>1</th>\n",
       "      <td>0</td>\n",
       "      <td>0</td>\n",
       "      <td>1</td>\n",
       "      <td>0</td>\n",
       "      <td>1</td>\n",
       "      <td>1</td>\n",
       "      <td>1</td>\n",
       "      <td>1</td>\n",
       "      <td>0</td>\n",
       "      <td>0</td>\n",
       "      <td>...</td>\n",
       "      <td>0</td>\n",
       "      <td>0</td>\n",
       "      <td>0</td>\n",
       "      <td>0</td>\n",
       "      <td>0</td>\n",
       "      <td>0</td>\n",
       "      <td>0</td>\n",
       "      <td>0</td>\n",
       "      <td>0</td>\n",
       "      <td>0</td>\n",
       "    </tr>\n",
       "    <tr>\n",
       "      <th>2</th>\n",
       "      <td>0</td>\n",
       "      <td>0</td>\n",
       "      <td>0</td>\n",
       "      <td>0</td>\n",
       "      <td>0</td>\n",
       "      <td>1</td>\n",
       "      <td>1</td>\n",
       "      <td>1</td>\n",
       "      <td>1</td>\n",
       "      <td>1</td>\n",
       "      <td>...</td>\n",
       "      <td>0</td>\n",
       "      <td>0</td>\n",
       "      <td>0</td>\n",
       "      <td>0</td>\n",
       "      <td>0</td>\n",
       "      <td>0</td>\n",
       "      <td>0</td>\n",
       "      <td>0</td>\n",
       "      <td>0</td>\n",
       "      <td>0</td>\n",
       "    </tr>\n",
       "    <tr>\n",
       "      <th>3</th>\n",
       "      <td>0</td>\n",
       "      <td>1</td>\n",
       "      <td>0</td>\n",
       "      <td>0</td>\n",
       "      <td>0</td>\n",
       "      <td>0</td>\n",
       "      <td>0</td>\n",
       "      <td>0</td>\n",
       "      <td>0</td>\n",
       "      <td>0</td>\n",
       "      <td>...</td>\n",
       "      <td>0</td>\n",
       "      <td>0</td>\n",
       "      <td>0</td>\n",
       "      <td>0</td>\n",
       "      <td>0</td>\n",
       "      <td>0</td>\n",
       "      <td>0</td>\n",
       "      <td>0</td>\n",
       "      <td>0</td>\n",
       "      <td>0</td>\n",
       "    </tr>\n",
       "    <tr>\n",
       "      <th>4</th>\n",
       "      <td>0</td>\n",
       "      <td>1</td>\n",
       "      <td>1</td>\n",
       "      <td>0</td>\n",
       "      <td>0</td>\n",
       "      <td>0</td>\n",
       "      <td>0</td>\n",
       "      <td>1</td>\n",
       "      <td>0</td>\n",
       "      <td>0</td>\n",
       "      <td>...</td>\n",
       "      <td>1</td>\n",
       "      <td>0</td>\n",
       "      <td>0</td>\n",
       "      <td>0</td>\n",
       "      <td>0</td>\n",
       "      <td>0</td>\n",
       "      <td>0</td>\n",
       "      <td>0</td>\n",
       "      <td>0</td>\n",
       "      <td>0</td>\n",
       "    </tr>\n",
       "  </tbody>\n",
       "</table>\n",
       "<p>5 rows × 24 columns</p>\n",
       "</div>"
      ],
      "text/plain": [
       "   Other Europe  High Per Capita GDP  UM  Medium Population  \\\n",
       "0             1                    1   1                  1   \n",
       "1             0                    0   1                  0   \n",
       "2             0                    0   0                  0   \n",
       "3             0                    1   0                  0   \n",
       "4             0                    1   1                  0   \n",
       "\n",
       "   Medium Total Ecological Footprint  Africa  Medium Per Capita GDP  \\\n",
       "0                                  1       0                      0   \n",
       "1                                  1       1                      1   \n",
       "2                                  0       1                      1   \n",
       "3                                  0       0                      0   \n",
       "4                                  0       0                      0   \n",
       "\n",
       "   Very High Population  LM  Low Total Ecological Footprint  ...  \\\n",
       "0                     0   0                               0  ...   \n",
       "1                     1   0                               0  ...   \n",
       "2                     1   1                               1  ...   \n",
       "3                     0   0                               0  ...   \n",
       "4                     1   0                               0  ...   \n",
       "\n",
       "   South America  Middle East/Central Asia  Asia-Pacific  \\\n",
       "0              0                         0             0   \n",
       "1              0                         0             0   \n",
       "2              0                         0             0   \n",
       "3              0                         0             0   \n",
       "4              1                         0             0   \n",
       "\n",
       "   Very High Per Capita GDP  High Population  \\\n",
       "0                         0                0   \n",
       "1                         0                0   \n",
       "2                         0                0   \n",
       "3                         0                0   \n",
       "4                         0                0   \n",
       "\n",
       "   Very High Total Ecological Footprint  EU-27  LI  Low Per Capita GDP  \\\n",
       "0                                     0      0   0                   0   \n",
       "1                                     0      0   0                   0   \n",
       "2                                     0      0   0                   0   \n",
       "3                                     0      0   0                   0   \n",
       "4                                     0      0   0                   0   \n",
       "\n",
       "   North America  \n",
       "0              0  \n",
       "1              0  \n",
       "2              0  \n",
       "3              0  \n",
       "4              0  \n",
       "\n",
       "[5 rows x 24 columns]"
      ]
     },
     "execution_count": 40,
     "metadata": {},
     "output_type": "execute_result"
    }
   ],
   "source": [
    "# Convert the DataFrame to a one-hot encoded matrix.\n",
    "# There are 24 unique values, so 24 is passed as the column range\n",
    "# in the first list comprehension.\n",
    "rm_df = pd.DataFrame([[0 for _ in range(24)] for _ in range(rm_df.shape[0])], columns=values)\n",
    "\n",
    "for i, basket in enumerate(baskets):\n",
    "    rm_df.iloc[i, basket] = 1\n",
    "\n",
    "rm_df.head()"
   ]
  },
  {
   "cell_type": "markdown",
   "id": "b73587a3",
   "metadata": {},
   "source": [
    "## Association Rule Mining (Market-basket model)"
   ]
  },
  {
   "cell_type": "markdown",
   "id": "b50b9597",
   "metadata": {},
   "source": [
    "To form a more solid association between our variables, the **market-basket model** was used in order to find characteristics of countries that frequently show up with one another. This will be further explained in the \"Association Rule Mining\" section.\n",
    "\n",
    "In the interest of accessibility to non-programmers and keeping the data analysis portion of the research separate from the implementation of methods, the code for the rule miner is in a separate `ruleMiner.py` file that should come with this file, if you are interested in viewing the code."
   ]
  },
  {
   "cell_type": "markdown",
   "id": "d98e0205",
   "metadata": {},
   "source": [
    "A Rule Miner object was created with a support value of 30 and a confidence threshold of 0.6. This allows for rule miner functionality such as getting the association rules to be accessible within this notebook."
   ]
  },
  {
   "cell_type": "code",
   "execution_count": 41,
   "id": "60e3ec21",
   "metadata": {},
   "outputs": [],
   "source": [
    "rm = RuleMiner(20, 0.6)"
   ]
  },
  {
   "cell_type": "code",
   "execution_count": 42,
   "id": "ddfec5d5",
   "metadata": {},
   "outputs": [
    {
     "name": "stdout",
     "output_type": "stream",
     "text": [
      "['Africa', 'LI'] -> ['Low Total Ecological Footprint']\n",
      "['Africa', 'Low Total Ecological Footprint'] -> ['LI']\n",
      "['LI'] -> ['Africa', 'Low Total Ecological Footprint']\n",
      "['LI', 'Low Total Ecological Footprint'] -> ['Africa']\n",
      "['Africa', 'Low Per Capita GDP'] -> ['Low Total Ecological Footprint']\n",
      "['Africa', 'Low Total Ecological Footprint'] -> ['Low Per Capita GDP']\n",
      "['Low Per Capita GDP'] -> ['Africa', 'Low Total Ecological Footprint']\n",
      "['Low Per Capita GDP', 'Low Total Ecological Footprint'] -> ['Africa']\n",
      "['Africa', 'LI'] -> ['Low Per Capita GDP']\n",
      "['Africa', 'Low Per Capita GDP'] -> ['LI']\n",
      "['LI'] -> ['Africa', 'Low Per Capita GDP']\n",
      "['LI', 'Low Per Capita GDP'] -> ['Africa']\n",
      "['LI', 'Low Per Capita GDP'] -> ['Low Total Ecological Footprint']\n",
      "['LI', 'Low Total Ecological Footprint'] -> ['Low Per Capita GDP']\n",
      "['Low Per Capita GDP', 'Low Total Ecological Footprint'] -> ['LI']\n",
      "['LI'] -> ['Low Per Capita GDP', 'Low Total Ecological Footprint']\n",
      "['HI', 'Very High Per Capita GDP'] -> ['Very High Total Ecological Footprint']\n",
      "['Very High Total Ecological Footprint'] -> ['HI', 'Very High Per Capita GDP']\n",
      "['HI', 'Very High Total Ecological Footprint'] -> ['Very High Per Capita GDP']\n",
      "['Very High Per Capita GDP'] -> ['HI', 'Very High Total Ecological Footprint']\n",
      "['Very High Per Capita GDP', 'Very High Total Ecological Footprint'] -> ['HI']\n",
      "['HI'] -> ['Very High Per Capita GDP', 'Very High Total Ecological Footprint']\n",
      "['EU-27', 'HI'] -> ['Very High Per Capita GDP']\n",
      "['EU-27', 'Very High Per Capita GDP'] -> ['HI']\n",
      "['EU-27'] -> ['HI', 'Very High Per Capita GDP']\n"
     ]
    }
   ],
   "source": [
    "association_rules = rm.get_association_rules(rm_df)\n",
    "\n",
    "for rule in association_rules:\n",
    "    print(rule[0], '->', rule[1])"
   ]
  },
  {
   "cell_type": "markdown",
   "id": "a5383602",
   "metadata": {},
   "source": [
    "# VII. Statistical Inference"
   ]
  },
  {
   "cell_type": "markdown",
   "id": "7c419c9f",
   "metadata": {},
   "source": [
    "The data originally contained a mixture of categorical and numerical data, however, due to the binning process, all of the variables concerning the research question aside from the total ecological footprint are categorical. As such, tests of independence were performed by using Pearson Chi-Square.//TODO"
   ]
  },
  {
   "cell_type": "markdown",
   "id": "d1197928",
   "metadata": {},
   "source": [
    "## Pre-processing"
   ]
  },
  {
   "cell_type": "markdown",
   "metadata": {},
   "source": [
    "First, the DataFrame must be converted such that only the necessary columns are present."
   ]
  },
  {
   "cell_type": "code",
   "execution_count": 43,
   "metadata": {},
   "outputs": [
    {
     "data": {
      "text/html": [
       "<div>\n",
       "<style scoped>\n",
       "    .dataframe tbody tr th:only-of-type {\n",
       "        vertical-align: middle;\n",
       "    }\n",
       "\n",
       "    .dataframe tbody tr th {\n",
       "        vertical-align: top;\n",
       "    }\n",
       "\n",
       "    .dataframe thead th {\n",
       "        text-align: right;\n",
       "    }\n",
       "</style>\n",
       "<table border=\"1\" class=\"dataframe\">\n",
       "  <thead>\n",
       "    <tr style=\"text-align: right;\">\n",
       "      <th></th>\n",
       "      <th>Region</th>\n",
       "      <th>Per Capita GDP</th>\n",
       "      <th>Income Group</th>\n",
       "      <th>Population (millions)</th>\n",
       "      <th>Total Ecological Footprint (Consumption)</th>\n",
       "    </tr>\n",
       "  </thead>\n",
       "  <tbody>\n",
       "    <tr>\n",
       "      <th>1</th>\n",
       "      <td>Other Europe</td>\n",
       "      <td>High Per Capita GDP</td>\n",
       "      <td>UM</td>\n",
       "      <td>Medium Population</td>\n",
       "      <td>Medium Total Ecological Footprint</td>\n",
       "    </tr>\n",
       "    <tr>\n",
       "      <th>2</th>\n",
       "      <td>Africa</td>\n",
       "      <td>Medium Per Capita GDP</td>\n",
       "      <td>UM</td>\n",
       "      <td>Very High Population</td>\n",
       "      <td>Medium Total Ecological Footprint</td>\n",
       "    </tr>\n",
       "    <tr>\n",
       "      <th>3</th>\n",
       "      <td>Africa</td>\n",
       "      <td>Medium Per Capita GDP</td>\n",
       "      <td>LM</td>\n",
       "      <td>Very High Population</td>\n",
       "      <td>Low Total Ecological Footprint</td>\n",
       "    </tr>\n",
       "    <tr>\n",
       "      <th>4</th>\n",
       "      <td>Central America/Caribbean</td>\n",
       "      <td>High Per Capita GDP</td>\n",
       "      <td>HI</td>\n",
       "      <td>Small Population</td>\n",
       "      <td>High Total Ecological Footprint</td>\n",
       "    </tr>\n",
       "    <tr>\n",
       "      <th>5</th>\n",
       "      <td>South America</td>\n",
       "      <td>High Per Capita GDP</td>\n",
       "      <td>UM</td>\n",
       "      <td>Very High Population</td>\n",
       "      <td>High Total Ecological Footprint</td>\n",
       "    </tr>\n",
       "  </tbody>\n",
       "</table>\n",
       "</div>"
      ],
      "text/plain": [
       "                      Region         Per Capita GDP Income Group  \\\n",
       "1               Other Europe    High Per Capita GDP           UM   \n",
       "2                     Africa  Medium Per Capita GDP           UM   \n",
       "3                     Africa  Medium Per Capita GDP           LM   \n",
       "4  Central America/Caribbean    High Per Capita GDP           HI   \n",
       "5              South America    High Per Capita GDP           UM   \n",
       "\n",
       "  Population (millions) Total Ecological Footprint (Consumption)  \n",
       "1     Medium Population        Medium Total Ecological Footprint  \n",
       "2  Very High Population        Medium Total Ecological Footprint  \n",
       "3  Very High Population           Low Total Ecological Footprint  \n",
       "4      Small Population          High Total Ecological Footprint  \n",
       "5  Very High Population          High Total Ecological Footprint  "
      ]
     },
     "execution_count": 43,
     "metadata": {},
     "output_type": "execute_result"
    }
   ],
   "source": [
    "si_df = cleaned_df[['Region', 'Per Capita GDP', 'Income Group', 'Population (millions)', 'Total Ecological Footprint (Consumption)']]\n",
    "si_df.head()"
   ]
  },
  {
   "cell_type": "markdown",
   "id": "6d637487",
   "metadata": {},
   "source": [
    "## Tests of Independence (Pearson Chi-Square Test)"
   ]
  },
  {
   "cell_type": "markdown",
   "metadata": {},
   "source": [
    "Pearson's Chi-Square test was used to determine the relation of the various columns (Region, Per Capita GDP, Income Group, Population) with the total ecological footprint for consumption."
   ]
  },
  {
   "cell_type": "markdown",
   "metadata": {},
   "source": [
    "### 1. Region independence test"
   ]
  },
  {
   "cell_type": "markdown",
   "metadata": {},
   "source": [
    "Check if the total ecological footprint of a country is independent of the region it belongs to.\n",
    "\n",
    "First, the DataFrame was converted to a grouped table."
   ]
  },
  {
   "cell_type": "code",
   "execution_count": 44,
   "metadata": {},
   "outputs": [
    {
     "data": {
      "text/plain": [
       "Total Ecological Footprint (Consumption)  Region                   \n",
       "Low Total Ecological Footprint            Africa                       29\n",
       "                                          Asia-Pacific                  9\n",
       "                                          Central America/Caribbean     2\n",
       "                                          EU-27                         0\n",
       "                                          Middle East/Central Asia      3\n",
       "                                          North America                 0\n",
       "                                          Other Europe                  0\n",
       "                                          South America                 0\n",
       "Medium Total Ecological Footprint         Africa                       15\n",
       "                                          Asia-Pacific                  6\n",
       "                                          Central America/Caribbean     9\n",
       "                                          EU-27                         0\n",
       "                                          Middle East/Central Asia      4\n",
       "                                          North America                 1\n",
       "                                          Other Europe                  2\n",
       "                                          South America                 4\n",
       "High Total Ecological Footprint           Africa                        4\n",
       "                                          Asia-Pacific                  5\n",
       "                                          Central America/Caribbean     4\n",
       "                                          EU-27                         9\n",
       "                                          Middle East/Central Asia      4\n",
       "                                          North America                 0\n",
       "                                          Other Europe                  5\n",
       "                                          South America                 7\n",
       "Very High Total Ecological Footprint      Africa                        0\n",
       "                                          Asia-Pacific                  8\n",
       "                                          Central America/Caribbean     2\n",
       "                                          EU-27                        17\n",
       "                                          Middle East/Central Asia      8\n",
       "                                          North America                 2\n",
       "                                          Other Europe                  4\n",
       "                                          South America                 0\n",
       "dtype: int64"
      ]
     },
     "execution_count": 44,
     "metadata": {},
     "output_type": "execute_result"
    }
   ],
   "source": [
    "counts = si_df.groupby(['Total Ecological Footprint (Consumption)', 'Region'], observed=False).size()\n",
    "counts"
   ]
  },
  {
   "cell_type": "markdown",
   "metadata": {},
   "source": [
    "Then, it was converted to the proper table format for the `chi2_contingency()` method to work."
   ]
  },
  {
   "cell_type": "code",
   "execution_count": 45,
   "metadata": {},
   "outputs": [
    {
     "data": {
      "text/html": [
       "<div>\n",
       "<style scoped>\n",
       "    .dataframe tbody tr th:only-of-type {\n",
       "        vertical-align: middle;\n",
       "    }\n",
       "\n",
       "    .dataframe tbody tr th {\n",
       "        vertical-align: top;\n",
       "    }\n",
       "\n",
       "    .dataframe thead th {\n",
       "        text-align: right;\n",
       "    }\n",
       "</style>\n",
       "<table border=\"1\" class=\"dataframe\">\n",
       "  <thead>\n",
       "    <tr style=\"text-align: right;\">\n",
       "      <th>Region</th>\n",
       "      <th>Africa</th>\n",
       "      <th>Asia-Pacific</th>\n",
       "      <th>Central America/Caribbean</th>\n",
       "      <th>EU-27</th>\n",
       "      <th>Middle East/Central Asia</th>\n",
       "      <th>North America</th>\n",
       "      <th>Other Europe</th>\n",
       "      <th>South America</th>\n",
       "    </tr>\n",
       "    <tr>\n",
       "      <th>Total Ecological Footprint (Consumption)</th>\n",
       "      <th></th>\n",
       "      <th></th>\n",
       "      <th></th>\n",
       "      <th></th>\n",
       "      <th></th>\n",
       "      <th></th>\n",
       "      <th></th>\n",
       "      <th></th>\n",
       "    </tr>\n",
       "  </thead>\n",
       "  <tbody>\n",
       "    <tr>\n",
       "      <th>Low Total Ecological Footprint</th>\n",
       "      <td>29</td>\n",
       "      <td>9</td>\n",
       "      <td>2</td>\n",
       "      <td>0</td>\n",
       "      <td>3</td>\n",
       "      <td>0</td>\n",
       "      <td>0</td>\n",
       "      <td>0</td>\n",
       "    </tr>\n",
       "    <tr>\n",
       "      <th>Medium Total Ecological Footprint</th>\n",
       "      <td>15</td>\n",
       "      <td>6</td>\n",
       "      <td>9</td>\n",
       "      <td>0</td>\n",
       "      <td>4</td>\n",
       "      <td>1</td>\n",
       "      <td>2</td>\n",
       "      <td>4</td>\n",
       "    </tr>\n",
       "    <tr>\n",
       "      <th>High Total Ecological Footprint</th>\n",
       "      <td>4</td>\n",
       "      <td>5</td>\n",
       "      <td>4</td>\n",
       "      <td>9</td>\n",
       "      <td>4</td>\n",
       "      <td>0</td>\n",
       "      <td>5</td>\n",
       "      <td>7</td>\n",
       "    </tr>\n",
       "    <tr>\n",
       "      <th>Very High Total Ecological Footprint</th>\n",
       "      <td>0</td>\n",
       "      <td>8</td>\n",
       "      <td>2</td>\n",
       "      <td>17</td>\n",
       "      <td>8</td>\n",
       "      <td>2</td>\n",
       "      <td>4</td>\n",
       "      <td>0</td>\n",
       "    </tr>\n",
       "  </tbody>\n",
       "</table>\n",
       "</div>"
      ],
      "text/plain": [
       "Region                                    Africa  Asia-Pacific  \\\n",
       "Total Ecological Footprint (Consumption)                         \n",
       "Low Total Ecological Footprint                29             9   \n",
       "Medium Total Ecological Footprint             15             6   \n",
       "High Total Ecological Footprint                4             5   \n",
       "Very High Total Ecological Footprint           0             8   \n",
       "\n",
       "Region                                    Central America/Caribbean  EU-27  \\\n",
       "Total Ecological Footprint (Consumption)                                     \n",
       "Low Total Ecological Footprint                                    2      0   \n",
       "Medium Total Ecological Footprint                                 9      0   \n",
       "High Total Ecological Footprint                                   4      9   \n",
       "Very High Total Ecological Footprint                              2     17   \n",
       "\n",
       "Region                                    Middle East/Central Asia  \\\n",
       "Total Ecological Footprint (Consumption)                             \n",
       "Low Total Ecological Footprint                                   3   \n",
       "Medium Total Ecological Footprint                                4   \n",
       "High Total Ecological Footprint                                  4   \n",
       "Very High Total Ecological Footprint                             8   \n",
       "\n",
       "Region                                    North America  Other Europe  \\\n",
       "Total Ecological Footprint (Consumption)                                \n",
       "Low Total Ecological Footprint                        0             0   \n",
       "Medium Total Ecological Footprint                     1             2   \n",
       "High Total Ecological Footprint                       0             5   \n",
       "Very High Total Ecological Footprint                  2             4   \n",
       "\n",
       "Region                                    South America  \n",
       "Total Ecological Footprint (Consumption)                 \n",
       "Low Total Ecological Footprint                        0  \n",
       "Medium Total Ecological Footprint                     4  \n",
       "High Total Ecological Footprint                       7  \n",
       "Very High Total Ecological Footprint                  0  "
      ]
     },
     "execution_count": 45,
     "metadata": {},
     "output_type": "execute_result"
    }
   ],
   "source": [
    "table = counts.unstack(level=1)\n",
    "table"
   ]
  },
  {
   "cell_type": "markdown",
   "metadata": {},
   "source": [
    "With the table in the proper format, the p-value was calculated with the Chi-Square method from SciPy."
   ]
  },
  {
   "cell_type": "code",
   "execution_count": 46,
   "metadata": {},
   "outputs": [
    {
     "name": "stdout",
     "output_type": "stream",
     "text": [
      "P-value: 3.0610141794820045e-13\n"
     ]
    }
   ],
   "source": [
    "chi2 = chi2_contingency(table)\n",
    "p_value = chi2_contingency(table)[1]\n",
    "print(\"P-value:\", p_value)"
   ]
  },
  {
   "cell_type": "markdown",
   "id": "d488747a",
   "metadata": {},
   "source": [
    "H0: The total ecological footprint of a country is independent of the region it belongs to. <br>\n",
    "H1: The total ecological footprint of a country is dependent of the region it belongs to.\n",
    "\n",
    "At a significance level of 0.05:<br>\n",
    "The p-value 3.0610e-13 is less than the significance level 0.05, thus reject the null hypothesis. Therefore, the total ecological footprint of a country is dependent of the region it belongs to."
   ]
  },
  {
   "cell_type": "markdown",
   "id": "3163c321",
   "metadata": {},
   "source": [
    "### 2. Income group independence test"
   ]
  },
  {
   "cell_type": "markdown",
   "id": "c164969a",
   "metadata": {},
   "source": [
    "Check if the total ecological footprint of a country is independent of the income group it belongs to.\n",
    "\n",
    "First, the DataFrame was converted to a grouped table."
   ]
  },
  {
   "cell_type": "code",
   "execution_count": 47,
   "id": "4546d058",
   "metadata": {},
   "outputs": [
    {
     "data": {
      "text/plain": [
       "Total Ecological Footprint (Consumption)  Income Group\n",
       "Low Total Ecological Footprint            LI              26\n",
       "                                          LM              16\n",
       "                                          UM               1\n",
       "                                          HI               0\n",
       "Medium Total Ecological Footprint         LI               6\n",
       "                                          LM              15\n",
       "                                          UM              19\n",
       "                                          HI               1\n",
       "High Total Ecological Footprint           LI               0\n",
       "                                          LM               9\n",
       "                                          UM              17\n",
       "                                          HI              12\n",
       "Very High Total Ecological Footprint      LI               0\n",
       "                                          LM               2\n",
       "                                          UM               7\n",
       "                                          HI              32\n",
       "dtype: int64"
      ]
     },
     "execution_count": 47,
     "metadata": {},
     "output_type": "execute_result"
    }
   ],
   "source": [
    "counts = si_df.groupby(['Total Ecological Footprint (Consumption)', 'Income Group'], observed=False).size()\n",
    "counts"
   ]
  },
  {
   "cell_type": "markdown",
   "metadata": {},
   "source": [
    "Then, it was converted to the proper table format for the `chi2_contingency()` method to work."
   ]
  },
  {
   "cell_type": "code",
   "execution_count": 48,
   "id": "2fc6bdb6",
   "metadata": {},
   "outputs": [
    {
     "data": {
      "text/html": [
       "<div>\n",
       "<style scoped>\n",
       "    .dataframe tbody tr th:only-of-type {\n",
       "        vertical-align: middle;\n",
       "    }\n",
       "\n",
       "    .dataframe tbody tr th {\n",
       "        vertical-align: top;\n",
       "    }\n",
       "\n",
       "    .dataframe thead th {\n",
       "        text-align: right;\n",
       "    }\n",
       "</style>\n",
       "<table border=\"1\" class=\"dataframe\">\n",
       "  <thead>\n",
       "    <tr style=\"text-align: right;\">\n",
       "      <th>Income Group</th>\n",
       "      <th>LI</th>\n",
       "      <th>LM</th>\n",
       "      <th>UM</th>\n",
       "      <th>HI</th>\n",
       "    </tr>\n",
       "    <tr>\n",
       "      <th>Total Ecological Footprint (Consumption)</th>\n",
       "      <th></th>\n",
       "      <th></th>\n",
       "      <th></th>\n",
       "      <th></th>\n",
       "    </tr>\n",
       "  </thead>\n",
       "  <tbody>\n",
       "    <tr>\n",
       "      <th>Low Total Ecological Footprint</th>\n",
       "      <td>26</td>\n",
       "      <td>16</td>\n",
       "      <td>1</td>\n",
       "      <td>0</td>\n",
       "    </tr>\n",
       "    <tr>\n",
       "      <th>Medium Total Ecological Footprint</th>\n",
       "      <td>6</td>\n",
       "      <td>15</td>\n",
       "      <td>19</td>\n",
       "      <td>1</td>\n",
       "    </tr>\n",
       "    <tr>\n",
       "      <th>High Total Ecological Footprint</th>\n",
       "      <td>0</td>\n",
       "      <td>9</td>\n",
       "      <td>17</td>\n",
       "      <td>12</td>\n",
       "    </tr>\n",
       "    <tr>\n",
       "      <th>Very High Total Ecological Footprint</th>\n",
       "      <td>0</td>\n",
       "      <td>2</td>\n",
       "      <td>7</td>\n",
       "      <td>32</td>\n",
       "    </tr>\n",
       "  </tbody>\n",
       "</table>\n",
       "</div>"
      ],
      "text/plain": [
       "Income Group                              LI  LM  UM  HI\n",
       "Total Ecological Footprint (Consumption)                \n",
       "Low Total Ecological Footprint            26  16   1   0\n",
       "Medium Total Ecological Footprint          6  15  19   1\n",
       "High Total Ecological Footprint            0   9  17  12\n",
       "Very High Total Ecological Footprint       0   2   7  32"
      ]
     },
     "execution_count": 48,
     "metadata": {},
     "output_type": "execute_result"
    }
   ],
   "source": [
    "table = counts.unstack(level=1)\n",
    "table"
   ]
  },
  {
   "cell_type": "markdown",
   "id": "72294f46",
   "metadata": {},
   "source": [
    "With the table in the proper format, the p-value was calculated with the Chi-Square method from SciPy."
   ]
  },
  {
   "cell_type": "code",
   "execution_count": 49,
   "id": "f20c9e72",
   "metadata": {},
   "outputs": [
    {
     "name": "stdout",
     "output_type": "stream",
     "text": [
      "P-value: 1.403682112046429e-26\n"
     ]
    }
   ],
   "source": [
    "chi2 = chi2_contingency(table)\n",
    "p_value = chi2_contingency(table)[1]\n",
    "print(\"P-value:\", p_value)"
   ]
  },
  {
   "cell_type": "markdown",
   "id": "ff390dd9",
   "metadata": {},
   "source": [
    "H0: The total ecological footprint of a country is independent of the income group it belongs to. <br>\n",
    "H1: The total ecological footprint of a country is dependent of the income group it belongs to.\n",
    "\n",
    "At a significance level of 0.05:<br>\n",
    "The p-value 1.4037e-26 is less than the significance level 0.05, thus reject the null hypothesis. Therefore, the total ecological footprint of a country is dependent of the income group it belongs to."
   ]
  },
  {
   "cell_type": "markdown",
   "metadata": {},
   "source": [
    "### 3. Per Capita GDP independence test"
   ]
  },
  {
   "cell_type": "markdown",
   "id": "030cdc85",
   "metadata": {},
   "source": [
    "Check if the total ecological footprint of a country is independent of its Per Capita GDP.\n",
    "\n",
    "First, the DataFrame was converted to a grouped table."
   ]
  },
  {
   "cell_type": "code",
   "execution_count": 50,
   "id": "4bff73fd",
   "metadata": {},
   "outputs": [
    {
     "data": {
      "text/plain": [
       "Total Ecological Footprint (Consumption)  Per Capita GDP          \n",
       "Low Total Ecological Footprint            Low Per Capita GDP          33\n",
       "                                          Medium Per Capita GDP       10\n",
       "                                          High Per Capita GDP          0\n",
       "                                          Very High Per Capita GDP     0\n",
       "Medium Total Ecological Footprint         Low Per Capita GDP           8\n",
       "                                          Medium Per Capita GDP       19\n",
       "                                          High Per Capita GDP         14\n",
       "                                          Very High Per Capita GDP     0\n",
       "High Total Ecological Footprint           Low Per Capita GDP           0\n",
       "                                          Medium Per Capita GDP        9\n",
       "                                          High Per Capita GDP         19\n",
       "                                          Very High Per Capita GDP    10\n",
       "Very High Total Ecological Footprint      Low Per Capita GDP           0\n",
       "                                          Medium Per Capita GDP        3\n",
       "                                          High Per Capita GDP          7\n",
       "                                          Very High Per Capita GDP    31\n",
       "dtype: int64"
      ]
     },
     "execution_count": 50,
     "metadata": {},
     "output_type": "execute_result"
    }
   ],
   "source": [
    "counts = si_df.groupby(['Total Ecological Footprint (Consumption)', 'Per Capita GDP'], observed=False).size()\n",
    "counts"
   ]
  },
  {
   "cell_type": "markdown",
   "id": "266e241c",
   "metadata": {},
   "source": [
    "Then, it was converted to the proper table format for the `chi2_contingency()` method to work."
   ]
  },
  {
   "cell_type": "code",
   "execution_count": 51,
   "id": "727b3181",
   "metadata": {},
   "outputs": [
    {
     "data": {
      "text/html": [
       "<div>\n",
       "<style scoped>\n",
       "    .dataframe tbody tr th:only-of-type {\n",
       "        vertical-align: middle;\n",
       "    }\n",
       "\n",
       "    .dataframe tbody tr th {\n",
       "        vertical-align: top;\n",
       "    }\n",
       "\n",
       "    .dataframe thead th {\n",
       "        text-align: right;\n",
       "    }\n",
       "</style>\n",
       "<table border=\"1\" class=\"dataframe\">\n",
       "  <thead>\n",
       "    <tr style=\"text-align: right;\">\n",
       "      <th>Per Capita GDP</th>\n",
       "      <th>Low Per Capita GDP</th>\n",
       "      <th>Medium Per Capita GDP</th>\n",
       "      <th>High Per Capita GDP</th>\n",
       "      <th>Very High Per Capita GDP</th>\n",
       "    </tr>\n",
       "    <tr>\n",
       "      <th>Total Ecological Footprint (Consumption)</th>\n",
       "      <th></th>\n",
       "      <th></th>\n",
       "      <th></th>\n",
       "      <th></th>\n",
       "    </tr>\n",
       "  </thead>\n",
       "  <tbody>\n",
       "    <tr>\n",
       "      <th>Low Total Ecological Footprint</th>\n",
       "      <td>33</td>\n",
       "      <td>10</td>\n",
       "      <td>0</td>\n",
       "      <td>0</td>\n",
       "    </tr>\n",
       "    <tr>\n",
       "      <th>Medium Total Ecological Footprint</th>\n",
       "      <td>8</td>\n",
       "      <td>19</td>\n",
       "      <td>14</td>\n",
       "      <td>0</td>\n",
       "    </tr>\n",
       "    <tr>\n",
       "      <th>High Total Ecological Footprint</th>\n",
       "      <td>0</td>\n",
       "      <td>9</td>\n",
       "      <td>19</td>\n",
       "      <td>10</td>\n",
       "    </tr>\n",
       "    <tr>\n",
       "      <th>Very High Total Ecological Footprint</th>\n",
       "      <td>0</td>\n",
       "      <td>3</td>\n",
       "      <td>7</td>\n",
       "      <td>31</td>\n",
       "    </tr>\n",
       "  </tbody>\n",
       "</table>\n",
       "</div>"
      ],
      "text/plain": [
       "Per Capita GDP                            Low Per Capita GDP  \\\n",
       "Total Ecological Footprint (Consumption)                       \n",
       "Low Total Ecological Footprint                            33   \n",
       "Medium Total Ecological Footprint                          8   \n",
       "High Total Ecological Footprint                            0   \n",
       "Very High Total Ecological Footprint                       0   \n",
       "\n",
       "Per Capita GDP                            Medium Per Capita GDP  \\\n",
       "Total Ecological Footprint (Consumption)                          \n",
       "Low Total Ecological Footprint                               10   \n",
       "Medium Total Ecological Footprint                            19   \n",
       "High Total Ecological Footprint                               9   \n",
       "Very High Total Ecological Footprint                          3   \n",
       "\n",
       "Per Capita GDP                            High Per Capita GDP  \\\n",
       "Total Ecological Footprint (Consumption)                        \n",
       "Low Total Ecological Footprint                              0   \n",
       "Medium Total Ecological Footprint                          14   \n",
       "High Total Ecological Footprint                            19   \n",
       "Very High Total Ecological Footprint                        7   \n",
       "\n",
       "Per Capita GDP                            Very High Per Capita GDP  \n",
       "Total Ecological Footprint (Consumption)                            \n",
       "Low Total Ecological Footprint                                   0  \n",
       "Medium Total Ecological Footprint                                0  \n",
       "High Total Ecological Footprint                                 10  \n",
       "Very High Total Ecological Footprint                            31  "
      ]
     },
     "execution_count": 51,
     "metadata": {},
     "output_type": "execute_result"
    }
   ],
   "source": [
    "table = counts.unstack(level=1)\n",
    "table"
   ]
  },
  {
   "cell_type": "markdown",
   "id": "1b1ba74b",
   "metadata": {},
   "source": [
    "With the table in the proper format, the p-value was calculated with the Chi-Square method from SciPy."
   ]
  },
  {
   "cell_type": "code",
   "execution_count": 52,
   "id": "3d94eabe",
   "metadata": {},
   "outputs": [
    {
     "name": "stdout",
     "output_type": "stream",
     "text": [
      "P-value: 9.958211997045722e-31\n"
     ]
    }
   ],
   "source": [
    "chi2 = chi2_contingency(table)\n",
    "p_value = chi2_contingency(table)[1]\n",
    "print(\"P-value:\", p_value)"
   ]
  },
  {
   "cell_type": "markdown",
   "id": "49332032",
   "metadata": {},
   "source": [
    "H0: The total ecological footprint of a country is independent of its Capita Per GDP. <br>\n",
    "H1: The total ecological footprint of a country is dependent of its Capita Per GDP.\n",
    "\n",
    "At a significance level of 0.05:<br>\n",
    "The p-value 9.9582e-31 is less than the significance level 0.05, thus reject the null hypothesis. Therefore, the total ecological footprint of a country is dependent of its Capita Per GDP."
   ]
  },
  {
   "cell_type": "markdown",
   "metadata": {},
   "source": [
    "### 4. Population independence test"
   ]
  },
  {
   "cell_type": "markdown",
   "id": "e2062453",
   "metadata": {},
   "source": [
    "Check if the total ecological footprint of a country is independent of its population.\n",
    "\n",
    "First, the DataFrame was converted to a grouped table."
   ]
  },
  {
   "cell_type": "code",
   "execution_count": 53,
   "id": "7186fea6",
   "metadata": {},
   "outputs": [
    {
     "data": {
      "text/plain": [
       "Total Ecological Footprint (Consumption)  Population (millions)\n",
       "Low Total Ecological Footprint            Small Population          6\n",
       "                                          Medium Population         7\n",
       "                                          High Population          18\n",
       "                                          Very High Population     12\n",
       "Medium Total Ecological Footprint         Small Population         10\n",
       "                                          Medium Population        11\n",
       "                                          High Population          10\n",
       "                                          Very High Population     10\n",
       "High Total Ecological Footprint           Small Population         15\n",
       "                                          Medium Population         8\n",
       "                                          High Population           5\n",
       "                                          Very High Population     10\n",
       "Very High Total Ecological Footprint      Small Population         10\n",
       "                                          Medium Population        15\n",
       "                                          High Population           7\n",
       "                                          Very High Population      9\n",
       "dtype: int64"
      ]
     },
     "execution_count": 53,
     "metadata": {},
     "output_type": "execute_result"
    }
   ],
   "source": [
    "counts = si_df.groupby(['Total Ecological Footprint (Consumption)', 'Population (millions)'], observed=False).size()\n",
    "counts"
   ]
  },
  {
   "cell_type": "markdown",
   "id": "1abc711f",
   "metadata": {},
   "source": [
    "Then, it was converted to the proper table format for the `chi2_contingency()` method to work."
   ]
  },
  {
   "cell_type": "code",
   "execution_count": 54,
   "id": "84e3b161",
   "metadata": {},
   "outputs": [
    {
     "data": {
      "text/html": [
       "<div>\n",
       "<style scoped>\n",
       "    .dataframe tbody tr th:only-of-type {\n",
       "        vertical-align: middle;\n",
       "    }\n",
       "\n",
       "    .dataframe tbody tr th {\n",
       "        vertical-align: top;\n",
       "    }\n",
       "\n",
       "    .dataframe thead th {\n",
       "        text-align: right;\n",
       "    }\n",
       "</style>\n",
       "<table border=\"1\" class=\"dataframe\">\n",
       "  <thead>\n",
       "    <tr style=\"text-align: right;\">\n",
       "      <th>Population (millions)</th>\n",
       "      <th>Small Population</th>\n",
       "      <th>Medium Population</th>\n",
       "      <th>High Population</th>\n",
       "      <th>Very High Population</th>\n",
       "    </tr>\n",
       "    <tr>\n",
       "      <th>Total Ecological Footprint (Consumption)</th>\n",
       "      <th></th>\n",
       "      <th></th>\n",
       "      <th></th>\n",
       "      <th></th>\n",
       "    </tr>\n",
       "  </thead>\n",
       "  <tbody>\n",
       "    <tr>\n",
       "      <th>Low Total Ecological Footprint</th>\n",
       "      <td>6</td>\n",
       "      <td>7</td>\n",
       "      <td>18</td>\n",
       "      <td>12</td>\n",
       "    </tr>\n",
       "    <tr>\n",
       "      <th>Medium Total Ecological Footprint</th>\n",
       "      <td>10</td>\n",
       "      <td>11</td>\n",
       "      <td>10</td>\n",
       "      <td>10</td>\n",
       "    </tr>\n",
       "    <tr>\n",
       "      <th>High Total Ecological Footprint</th>\n",
       "      <td>15</td>\n",
       "      <td>8</td>\n",
       "      <td>5</td>\n",
       "      <td>10</td>\n",
       "    </tr>\n",
       "    <tr>\n",
       "      <th>Very High Total Ecological Footprint</th>\n",
       "      <td>10</td>\n",
       "      <td>15</td>\n",
       "      <td>7</td>\n",
       "      <td>9</td>\n",
       "    </tr>\n",
       "  </tbody>\n",
       "</table>\n",
       "</div>"
      ],
      "text/plain": [
       "Population (millions)                     Small Population  Medium Population  \\\n",
       "Total Ecological Footprint (Consumption)                                        \n",
       "Low Total Ecological Footprint                           6                  7   \n",
       "Medium Total Ecological Footprint                       10                 11   \n",
       "High Total Ecological Footprint                         15                  8   \n",
       "Very High Total Ecological Footprint                    10                 15   \n",
       "\n",
       "Population (millions)                     High Population  \\\n",
       "Total Ecological Footprint (Consumption)                    \n",
       "Low Total Ecological Footprint                         18   \n",
       "Medium Total Ecological Footprint                      10   \n",
       "High Total Ecological Footprint                         5   \n",
       "Very High Total Ecological Footprint                    7   \n",
       "\n",
       "Population (millions)                     Very High Population  \n",
       "Total Ecological Footprint (Consumption)                        \n",
       "Low Total Ecological Footprint                              12  \n",
       "Medium Total Ecological Footprint                           10  \n",
       "High Total Ecological Footprint                             10  \n",
       "Very High Total Ecological Footprint                         9  "
      ]
     },
     "execution_count": 54,
     "metadata": {},
     "output_type": "execute_result"
    }
   ],
   "source": [
    "table = counts.unstack(level=1)\n",
    "table"
   ]
  },
  {
   "cell_type": "markdown",
   "id": "110615be",
   "metadata": {},
   "source": [
    "With the table in the proper format, the p-value was calculated with the Chi-Square method from SciPy."
   ]
  },
  {
   "cell_type": "code",
   "execution_count": 55,
   "id": "aff864de",
   "metadata": {},
   "outputs": [
    {
     "name": "stdout",
     "output_type": "stream",
     "text": [
      "P-value: 0.04064613049787365\n"
     ]
    }
   ],
   "source": [
    "chi2 = chi2_contingency(table)\n",
    "p_value = chi2_contingency(table)[1]\n",
    "print(\"P-value:\", p_value)"
   ]
  },
  {
   "cell_type": "markdown",
   "id": "4505dc99",
   "metadata": {},
   "source": [
    "H0: The total ecological footprint of a country is independent of its population. <br>\n",
    "H1: The total ecological footprint of a country is dependent of its population.\n",
    "\n",
    "At a significance level of 0.05:<br>\n",
    "The p-value 0.0406 is less than the significance level 0.05, thus reject the null hypothesis. Therefore, the total ecological footprint of a country is dependent of its population."
   ]
  },
  {
   "cell_type": "markdown",
   "id": "6cb962b9",
   "metadata": {},
   "source": [
    "# VIII. Insights and Conclusion"
   ]
  },
  {
   "cell_type": "markdown",
   "id": "7aaa687d",
   "metadata": {},
   "source": []
  },
  {
   "attachments": {},
   "cell_type": "markdown",
   "id": "a9b31e0a-5e5d-4a23-ae7c-7b1dc1328a5e",
   "metadata": {},
   "source": [
    "# IX. References\n",
    "@JAINA. (2024). *Global Ecological Footprint 2023🌐\\[latest report\\]*. Kaggle. https://www.kaggle.com/datasets/jainaru/global-ecological-footprint-2023.\n",
    "\n",
    "Collins Dictionary. (n.d.). *fishing ground*. https://www.collinsdictionary.com/dictionary/english/fishing-ground\n",
    "\n",
    "Econation. (n.d.). *Ecological footprint defined*. https://econation.one/ecological-footprint-defined/\n",
    "\n",
    "Esteban Ortiz-Ospina. (2017). *\"Life Expectancy\" – What does this actually mean?*. Published online at OurWorldInData.org. https://ourworldindata.org/life-expectancy-how-is-it-calculated-and-how-should-it-be-interpreted.\n",
    "\n",
    "European Environment Agency. (n.d). *built-up land*. https://www.eea.europa.eu/help/glossary/eea-glossary/built-up-land \n",
    "\n",
    "Foreign-Assisted and Special Projects Service. (n.d.). *forest land*. https://fasps.denr.gov.ph/index.php/resources/glossary-of-terms/forest-land\n",
    "\n",
    "Foreign-Assisted and Special Projects Service. (n.d.). *grazing land*. https://fasps.denr.gov.ph/index.php/resources/glossary-of-terms/grazing-land\n",
    "\n",
    "Investopedia. (2024). *GDP Per Capita: Definition, Uses, and Highest Per Country*. https://www.investopedia.com/terms/p/per-capita-gdp.asp.\n",
    "\n",
    "Merriam-Webster. (2024). *Population definition*. https://www.merriam-webster.com/dictionary/population\n",
    "\n",
    "Saravanakumar, N. (2024). *Data Binning*. WallStreetMojo. https://www.wallstreetmojo.com/data-binning/#:~:text=Data%20binning%20is%20a%20pre,to%20derive%20a%20representative%20value.\n",
    "\n",
    "UN Sustainable Development Solutions Network. (2022). *Sustainable Development Goals Index*. https://www.sdgindex.org/. \n",
    "\n",
    "United Nations Development Programme. (2023). *Human Development Report*. http://hdr.undp.org/en/data.\n",
    " \n",
    "International Monetary Fund. (2023). *World Economic Outlook*. https://www.imf.org/en/Publications/WEO\n",
    "\n",
    "Hamadeh, N., Van Rompaey, C, & Metreau, E. (2023). *World Bank Group country classifications by income level for FY24 (July 1, 2023- June 30, 2024)*. https://blogs.worldbank.org/en/opendata/new-world-bank-group-country-classifications-income-level-fy24\n",
    "\n",
    "York University Ecological Footprint Initiative & Global Footprint Network. *Public Data Package of the National Footprint and Biocapacity Accounts, 2023 edition*. Produced for the Footprint Data Foundation and distributed by Global Footprint Network. https://data.footprintnetwork.org."
   ]
  }
 ],
 "metadata": {
  "kernelspec": {
   "display_name": "Python 3 (ipykernel)",
   "language": "python",
   "name": "python3"
  },
  "language_info": {
   "codemirror_mode": {
    "name": "ipython",
    "version": 3
   },
   "file_extension": ".py",
   "mimetype": "text/x-python",
   "name": "python",
   "nbconvert_exporter": "python",
   "pygments_lexer": "ipython3",
   "version": "3.12.3"
  }
 },
 "nbformat": 4,
 "nbformat_minor": 5
}
